{
 "cells": [
  {
   "cell_type": "markdown",
   "metadata": {
    "id": "QvtD0SxEOPGe"
   },
   "source": [
    "<a id='1'></a><center> <h3 style=\"background-color:orange; color:white\" ><br>Telecommunication Industry Project<br></h3>"
   ]
  },
  {
   "cell_type": "markdown",
   "metadata": {
    "id": "_pzTIrVbOcFF"
   },
   "source": [
    "# Introduction\n",
    "This Jupyter notebook is part of your learning experience in the study of applied statistics.\n",
    "\n",
    "You will work with a data set that contains mobile phone prices and their specifications.\n",
    "\n",
    "**Dataset Columns Information**\n",
    "\n",
    "PID = a unique identifier for the phone model\n",
    "\n",
    "Blue = whether the phone has bluetooth support or not\n",
    "\n",
    "Wi_Fi = whether the phone has wifi support or not\n",
    "\n",
    "Tch_Scr = whether the phone has touch screen support or not\n",
    "\n",
    "Ext_Mem = whether the phone has external memory support or not\n",
    "\n",
    "Px_h = number of pixels in the vertical axis of the phone\n",
    "\n",
    "Px_w = number of pixels in the horizontal axis of the phone\n",
    "\n",
    "Scr_h = height of the screen of the phone in centimetres (cm)\n",
    "\n",
    "Scr_w = width of the screen of the phone in centimetres (cm)\n",
    "\n",
    "Int_Mem = internal memory of the phone measured in megabytes (MB)\n",
    "\n",
    "Bty_Pwr = maximum energy stored by the phone's battery measured in \n",
    "milli-Ampere-hours (mAh)\n",
    "\n",
    "PC = resolution of the primary camera measued in megapixels (MP)\n",
    "\n",
    "FC = resolution of the front camera measued in megapixels (MP)\n",
    "\n",
    "RAM = random access memory available in the phone measured in gigabytes (GB)\n",
    "\n",
    "Depth = depth of the mobile phone measured in centimetres (cm)\n",
    "\n",
    "Weight = weight of the mobile phone measured in grams (g)\n",
    "\n",
    "Price = selling price of the mobile phone in rupees\n"
   ]
  },
  {
   "cell_type": "code",
   "execution_count": null,
   "metadata": {
    "id": "wEXybtFON854"
   },
   "outputs": [],
   "source": []
  },
  {
   "cell_type": "markdown",
   "metadata": {
    "id": "YCLhIkwFO4Tj"
   },
   "source": [
    "## Task 1 - Load and study the data"
   ]
  },
  {
   "cell_type": "markdown",
   "metadata": {
    "id": "CBMdPgPUO89Y"
   },
   "source": [
    "Import the libraries that will be used in this notebook"
   ]
  },
  {
   "cell_type": "code",
   "execution_count": 1,
   "metadata": {
    "id": "z9ZS2Tw2N857"
   },
   "outputs": [],
   "source": [
    "# Load \"numpy\" and \"pandas\" for manipulating numbers and data frames\n",
    "# Load \"matplotlib.pyplot\" and \"seaborn\" for data visualisation\n",
    "import numpy as np\n",
    "import pandas as pd\n",
    "import matplotlib.pyplot as plt\n",
    "import seaborn as sns\n"
   ]
  },
  {
   "cell_type": "markdown",
   "metadata": {
    "id": "7rdvm8PDPCgM"
   },
   "source": [
    "Load the csv file as pandas dataframe. "
   ]
  },
  {
   "cell_type": "code",
   "execution_count": 3,
   "metadata": {
    "id": "7p5Rg_AkN858"
   },
   "outputs": [
    {
     "data": {
      "text/html": [
       "<div>\n",
       "<style scoped>\n",
       "    .dataframe tbody tr th:only-of-type {\n",
       "        vertical-align: middle;\n",
       "    }\n",
       "\n",
       "    .dataframe tbody tr th {\n",
       "        vertical-align: top;\n",
       "    }\n",
       "\n",
       "    .dataframe thead th {\n",
       "        text-align: right;\n",
       "    }\n",
       "</style>\n",
       "<table border=\"1\" class=\"dataframe\">\n",
       "  <thead>\n",
       "    <tr style=\"text-align: right;\">\n",
       "      <th></th>\n",
       "      <th>PID</th>\n",
       "      <th>Blue</th>\n",
       "      <th>Wi_Fi</th>\n",
       "      <th>Tch_Scr</th>\n",
       "      <th>Ext_Mem</th>\n",
       "      <th>Px_h</th>\n",
       "      <th>Px_w</th>\n",
       "      <th>Scr_h</th>\n",
       "      <th>Scr_w</th>\n",
       "      <th>PC</th>\n",
       "      <th>FC</th>\n",
       "      <th>Int_Mem</th>\n",
       "      <th>Bty_Pwr</th>\n",
       "      <th>RAM</th>\n",
       "      <th>Depth</th>\n",
       "      <th>Weight</th>\n",
       "      <th>Price</th>\n",
       "    </tr>\n",
       "  </thead>\n",
       "  <tbody>\n",
       "    <tr>\n",
       "      <th>0</th>\n",
       "      <td>AAB346A</td>\n",
       "      <td>yes</td>\n",
       "      <td>yes</td>\n",
       "      <td>no</td>\n",
       "      <td>no</td>\n",
       "      <td>780</td>\n",
       "      <td>460</td>\n",
       "      <td>3</td>\n",
       "      <td>1</td>\n",
       "      <td>2</td>\n",
       "      <td>2</td>\n",
       "      <td>8</td>\n",
       "      <td>2800</td>\n",
       "      <td>2</td>\n",
       "      <td>7</td>\n",
       "      <td>320</td>\n",
       "      <td>3297</td>\n",
       "    </tr>\n",
       "    <tr>\n",
       "      <th>1</th>\n",
       "      <td>AAC347I</td>\n",
       "      <td>yes</td>\n",
       "      <td>yes</td>\n",
       "      <td>no</td>\n",
       "      <td>no</td>\n",
       "      <td>780</td>\n",
       "      <td>560</td>\n",
       "      <td>2</td>\n",
       "      <td>1</td>\n",
       "      <td>4</td>\n",
       "      <td>2</td>\n",
       "      <td>8</td>\n",
       "      <td>3000</td>\n",
       "      <td>2</td>\n",
       "      <td>7</td>\n",
       "      <td>280</td>\n",
       "      <td>4500</td>\n",
       "    </tr>\n",
       "    <tr>\n",
       "      <th>2</th>\n",
       "      <td>BAB657J</td>\n",
       "      <td>no</td>\n",
       "      <td>yes</td>\n",
       "      <td>no</td>\n",
       "      <td>no</td>\n",
       "      <td>840</td>\n",
       "      <td>720</td>\n",
       "      <td>2</td>\n",
       "      <td>1</td>\n",
       "      <td>4</td>\n",
       "      <td>2</td>\n",
       "      <td>8</td>\n",
       "      <td>3300</td>\n",
       "      <td>2</td>\n",
       "      <td>7</td>\n",
       "      <td>400</td>\n",
       "      <td>4898</td>\n",
       "    </tr>\n",
       "    <tr>\n",
       "      <th>3</th>\n",
       "      <td>BBD456K</td>\n",
       "      <td>no</td>\n",
       "      <td>yes</td>\n",
       "      <td>yes</td>\n",
       "      <td>no</td>\n",
       "      <td>1280</td>\n",
       "      <td>1120</td>\n",
       "      <td>5</td>\n",
       "      <td>3</td>\n",
       "      <td>6</td>\n",
       "      <td>2</td>\n",
       "      <td>32</td>\n",
       "      <td>3000</td>\n",
       "      <td>2</td>\n",
       "      <td>3</td>\n",
       "      <td>300</td>\n",
       "      <td>6900</td>\n",
       "    </tr>\n",
       "    <tr>\n",
       "      <th>4</th>\n",
       "      <td>CCP761U</td>\n",
       "      <td>no</td>\n",
       "      <td>yes</td>\n",
       "      <td>yes</td>\n",
       "      <td>no</td>\n",
       "      <td>1280</td>\n",
       "      <td>1080</td>\n",
       "      <td>4</td>\n",
       "      <td>3</td>\n",
       "      <td>6</td>\n",
       "      <td>2</td>\n",
       "      <td>16</td>\n",
       "      <td>3000</td>\n",
       "      <td>2</td>\n",
       "      <td>3</td>\n",
       "      <td>210</td>\n",
       "      <td>5600</td>\n",
       "    </tr>\n",
       "  </tbody>\n",
       "</table>\n",
       "</div>"
      ],
      "text/plain": [
       "       PID Blue Wi_Fi Tch_Scr Ext_Mem  Px_h  Px_w  Scr_h  Scr_w  PC  FC  \\\n",
       "0  AAB346A  yes   yes      no      no   780   460      3      1   2   2   \n",
       "1  AAC347I  yes   yes      no      no   780   560      2      1   4   2   \n",
       "2  BAB657J   no   yes      no      no   840   720      2      1   4   2   \n",
       "3  BBD456K   no   yes     yes      no  1280  1120      5      3   6   2   \n",
       "4  CCP761U   no   yes     yes      no  1280  1080      4      3   6   2   \n",
       "\n",
       "   Int_Mem  Bty_Pwr  RAM  Depth  Weight  Price  \n",
       "0        8     2800    2      7     320   3297  \n",
       "1        8     3000    2      7     280   4500  \n",
       "2        8     3300    2      7     400   4898  \n",
       "3       32     3000    2      3     300   6900  \n",
       "4       16     3000    2      3     210   5600  "
      ]
     },
     "execution_count": 3,
     "metadata": {},
     "output_type": "execute_result"
    }
   ],
   "source": [
    "# Read in the \"Dataset\" file as a Pandas Data Frame\n",
    "df= pd.read_csv(\"Telecom Dataset.csv\")\n",
    "df.head()"
   ]
  },
  {
   "cell_type": "code",
   "execution_count": 4,
   "metadata": {
    "id": "WdfT3N-iN859"
   },
   "outputs": [
    {
     "data": {
      "text/html": [
       "<div>\n",
       "<style scoped>\n",
       "    .dataframe tbody tr th:only-of-type {\n",
       "        vertical-align: middle;\n",
       "    }\n",
       "\n",
       "    .dataframe tbody tr th {\n",
       "        vertical-align: top;\n",
       "    }\n",
       "\n",
       "    .dataframe thead th {\n",
       "        text-align: right;\n",
       "    }\n",
       "</style>\n",
       "<table border=\"1\" class=\"dataframe\">\n",
       "  <thead>\n",
       "    <tr style=\"text-align: right;\">\n",
       "      <th></th>\n",
       "      <th>PID</th>\n",
       "      <th>Blue</th>\n",
       "      <th>Wi_Fi</th>\n",
       "      <th>Tch_Scr</th>\n",
       "      <th>Ext_Mem</th>\n",
       "      <th>Px_h</th>\n",
       "      <th>Px_w</th>\n",
       "      <th>Scr_h</th>\n",
       "      <th>Scr_w</th>\n",
       "      <th>PC</th>\n",
       "      <th>FC</th>\n",
       "      <th>Int_Mem</th>\n",
       "      <th>Bty_Pwr</th>\n",
       "      <th>RAM</th>\n",
       "      <th>Depth</th>\n",
       "      <th>Weight</th>\n",
       "      <th>Price</th>\n",
       "    </tr>\n",
       "  </thead>\n",
       "  <tbody>\n",
       "    <tr>\n",
       "      <th>19</th>\n",
       "      <td>PNWD777L</td>\n",
       "      <td>no</td>\n",
       "      <td>no</td>\n",
       "      <td>yes</td>\n",
       "      <td>yes</td>\n",
       "      <td>2880</td>\n",
       "      <td>2120</td>\n",
       "      <td>4</td>\n",
       "      <td>3</td>\n",
       "      <td>24</td>\n",
       "      <td>12</td>\n",
       "      <td>64</td>\n",
       "      <td>2800</td>\n",
       "      <td>4</td>\n",
       "      <td>3</td>\n",
       "      <td>200</td>\n",
       "      <td>14350</td>\n",
       "    </tr>\n",
       "    <tr>\n",
       "      <th>22</th>\n",
       "      <td>QZR577O</td>\n",
       "      <td>no</td>\n",
       "      <td>yes</td>\n",
       "      <td>yes</td>\n",
       "      <td>yes</td>\n",
       "      <td>1440</td>\n",
       "      <td>1280</td>\n",
       "      <td>4</td>\n",
       "      <td>3</td>\n",
       "      <td>8</td>\n",
       "      <td>8</td>\n",
       "      <td>64</td>\n",
       "      <td>2800</td>\n",
       "      <td>8</td>\n",
       "      <td>3</td>\n",
       "      <td>170</td>\n",
       "      <td>16999</td>\n",
       "    </tr>\n",
       "    <tr>\n",
       "      <th>28</th>\n",
       "      <td>SSD000L</td>\n",
       "      <td>yes</td>\n",
       "      <td>yes</td>\n",
       "      <td>yes</td>\n",
       "      <td>yes</td>\n",
       "      <td>2580</td>\n",
       "      <td>2120</td>\n",
       "      <td>8</td>\n",
       "      <td>6</td>\n",
       "      <td>64</td>\n",
       "      <td>32</td>\n",
       "      <td>512</td>\n",
       "      <td>4200</td>\n",
       "      <td>8</td>\n",
       "      <td>3</td>\n",
       "      <td>270</td>\n",
       "      <td>36555</td>\n",
       "    </tr>\n",
       "    <tr>\n",
       "      <th>6</th>\n",
       "      <td>CTX123L</td>\n",
       "      <td>yes</td>\n",
       "      <td>no</td>\n",
       "      <td>yes</td>\n",
       "      <td>no</td>\n",
       "      <td>1390</td>\n",
       "      <td>1080</td>\n",
       "      <td>6</td>\n",
       "      <td>3</td>\n",
       "      <td>8</td>\n",
       "      <td>4</td>\n",
       "      <td>32</td>\n",
       "      <td>3000</td>\n",
       "      <td>2</td>\n",
       "      <td>3</td>\n",
       "      <td>100</td>\n",
       "      <td>13400</td>\n",
       "    </tr>\n",
       "    <tr>\n",
       "      <th>40</th>\n",
       "      <td>WER765T</td>\n",
       "      <td>yes</td>\n",
       "      <td>yes</td>\n",
       "      <td>yes</td>\n",
       "      <td>yes</td>\n",
       "      <td>2580</td>\n",
       "      <td>1980</td>\n",
       "      <td>5</td>\n",
       "      <td>3</td>\n",
       "      <td>64</td>\n",
       "      <td>32</td>\n",
       "      <td>128</td>\n",
       "      <td>3000</td>\n",
       "      <td>4</td>\n",
       "      <td>4</td>\n",
       "      <td>120</td>\n",
       "      <td>34780</td>\n",
       "    </tr>\n",
       "  </tbody>\n",
       "</table>\n",
       "</div>"
      ],
      "text/plain": [
       "         PID Blue Wi_Fi Tch_Scr Ext_Mem  Px_h  Px_w  Scr_h  Scr_w  PC  FC  \\\n",
       "19  PNWD777L   no    no     yes     yes  2880  2120      4      3  24  12   \n",
       "22   QZR577O   no   yes     yes     yes  1440  1280      4      3   8   8   \n",
       "28   SSD000L  yes   yes     yes     yes  2580  2120      8      6  64  32   \n",
       "6    CTX123L  yes    no     yes      no  1390  1080      6      3   8   4   \n",
       "40   WER765T  yes   yes     yes     yes  2580  1980      5      3  64  32   \n",
       "\n",
       "    Int_Mem  Bty_Pwr  RAM  Depth  Weight  Price  \n",
       "19       64     2800    4      3     200  14350  \n",
       "22       64     2800    8      3     170  16999  \n",
       "28      512     4200    8      3     270  36555  \n",
       "6        32     3000    2      3     100  13400  \n",
       "40      128     3000    4      4     120  34780  "
      ]
     },
     "execution_count": 4,
     "metadata": {},
     "output_type": "execute_result"
    }
   ],
   "source": [
    "# Take a brief look at the data\n",
    "df.sample(5)"
   ]
  },
  {
   "cell_type": "code",
   "execution_count": 5,
   "metadata": {
    "id": "0jdoVTnIN85_"
   },
   "outputs": [
    {
     "data": {
      "text/plain": [
       "(50, 17)"
      ]
     },
     "execution_count": 5,
     "metadata": {},
     "output_type": "execute_result"
    }
   ],
   "source": [
    "# Get the dimensions of the dataframe\n",
    "df.shape\n"
   ]
  },
  {
   "cell_type": "code",
   "execution_count": 6,
   "metadata": {
    "id": "y28qZAzdN86B"
   },
   "outputs": [
    {
     "data": {
      "text/plain": [
       "RangeIndex(start=0, stop=50, step=1)"
      ]
     },
     "execution_count": 6,
     "metadata": {},
     "output_type": "execute_result"
    }
   ],
   "source": [
    "# Get the row names of the dataframe\n",
    "df.index"
   ]
  },
  {
   "cell_type": "code",
   "execution_count": 7,
   "metadata": {
    "id": "u3wUbIm7N86C"
   },
   "outputs": [
    {
     "data": {
      "text/plain": [
       "Index(['PID', 'Blue', 'Wi_Fi', 'Tch_Scr', 'Ext_Mem', 'Px_h', 'Px_w', 'Scr_h',\n",
       "       'Scr_w', 'PC', 'FC', 'Int_Mem', 'Bty_Pwr', 'RAM', 'Depth', 'Weight',\n",
       "       'Price'],\n",
       "      dtype='object')"
      ]
     },
     "execution_count": 7,
     "metadata": {},
     "output_type": "execute_result"
    }
   ],
   "source": [
    "# Get the column names of the dataframe\n",
    "df.columns"
   ]
  },
  {
   "cell_type": "code",
   "execution_count": 8,
   "metadata": {
    "id": "zoJdOWbKN86D"
   },
   "outputs": [
    {
     "name": "stdout",
     "output_type": "stream",
     "text": [
      "<class 'pandas.core.frame.DataFrame'>\n",
      "RangeIndex: 50 entries, 0 to 49\n",
      "Data columns (total 17 columns):\n",
      " #   Column   Non-Null Count  Dtype \n",
      "---  ------   --------------  ----- \n",
      " 0   PID      50 non-null     object\n",
      " 1   Blue     50 non-null     object\n",
      " 2   Wi_Fi    50 non-null     object\n",
      " 3   Tch_Scr  50 non-null     object\n",
      " 4   Ext_Mem  50 non-null     object\n",
      " 5   Px_h     50 non-null     int64 \n",
      " 6   Px_w     50 non-null     int64 \n",
      " 7   Scr_h    50 non-null     int64 \n",
      " 8   Scr_w    50 non-null     int64 \n",
      " 9   PC       50 non-null     int64 \n",
      " 10  FC       50 non-null     int64 \n",
      " 11  Int_Mem  50 non-null     int64 \n",
      " 12  Bty_Pwr  50 non-null     int64 \n",
      " 13  RAM      50 non-null     int64 \n",
      " 14  Depth    50 non-null     int64 \n",
      " 15  Weight   50 non-null     int64 \n",
      " 16  Price    50 non-null     int64 \n",
      "dtypes: int64(12), object(5)\n",
      "memory usage: 6.8+ KB\n"
     ]
    }
   ],
   "source": [
    "# Look at basic information about the dataframe\n",
    "df.info()"
   ]
  },
  {
   "cell_type": "markdown",
   "metadata": {
    "id": "Yp1sfFKKQQLR"
   },
   "source": [
    "Observations:\n",
    "\n",
    "There are 50 phones in the data set.\n",
    "\n",
    "There are 17 features in the data set including the \"PID\" feature which is used as the row index labels.\n",
    "\n",
    "There are no missing values in the data set."
   ]
  },
  {
   "cell_type": "code",
   "execution_count": 7,
   "metadata": {
    "id": "F7O4y4kyN86F"
   },
   "outputs": [],
   "source": []
  },
  {
   "cell_type": "markdown",
   "metadata": {
    "id": "K6wSkK61E57v"
   },
   "source": [
    "<center>Let's try some logical operators to filter the data.<center>"
   ]
  },
  {
   "cell_type": "markdown",
   "metadata": {
    "id": "Fjx3ajuFFN5H"
   },
   "source": [
    "![](https://th.bing.com/th/id/R.0592084daa6518e4fae97f47217ec69e?rik=vNqmiaTVSSo54w&riu=http%3a%2f%2f2.bp.blogspot.com%2f-ujABms6N-Cg%2fTyYwShdTjnI%2fAAAAAAAAAAs%2fktPbHdifidc%2fs1600%2fLogical%2bOperators.PNG&ehk=ww1gl1HB2PcZwPQNHWRUvcQ631Q3mzyHSxL9G4zUKT4%3d&risl=&pid=ImgRaw&r=0,width=700,height=400)"
   ]
  },
  {
   "cell_type": "markdown",
   "metadata": {
    "id": "zBarC8WVQZG7"
   },
   "source": [
    "## Task 2 - Obtain the logical conditions for the features \"Blue\", \"Wi_Fi\", \"Tch_Scr\" and \"Ext_Mem\""
   ]
  },
  {
   "cell_type": "code",
   "execution_count": 13,
   "metadata": {
    "id": "RAV76P19N86G"
   },
   "outputs": [
    {
     "data": {
      "text/html": [
       "<div>\n",
       "<style scoped>\n",
       "    .dataframe tbody tr th:only-of-type {\n",
       "        vertical-align: middle;\n",
       "    }\n",
       "\n",
       "    .dataframe tbody tr th {\n",
       "        vertical-align: top;\n",
       "    }\n",
       "\n",
       "    .dataframe thead th {\n",
       "        text-align: right;\n",
       "    }\n",
       "</style>\n",
       "<table border=\"1\" class=\"dataframe\">\n",
       "  <thead>\n",
       "    <tr style=\"text-align: right;\">\n",
       "      <th></th>\n",
       "      <th>Blue</th>\n",
       "      <th>Wi_Fi</th>\n",
       "      <th>Tch_Scr</th>\n",
       "    </tr>\n",
       "  </thead>\n",
       "  <tbody>\n",
       "    <tr>\n",
       "      <th>0</th>\n",
       "      <td>yes</td>\n",
       "      <td>yes</td>\n",
       "      <td>no</td>\n",
       "    </tr>\n",
       "    <tr>\n",
       "      <th>1</th>\n",
       "      <td>yes</td>\n",
       "      <td>yes</td>\n",
       "      <td>no</td>\n",
       "    </tr>\n",
       "    <tr>\n",
       "      <th>2</th>\n",
       "      <td>no</td>\n",
       "      <td>yes</td>\n",
       "      <td>no</td>\n",
       "    </tr>\n",
       "    <tr>\n",
       "      <th>3</th>\n",
       "      <td>no</td>\n",
       "      <td>yes</td>\n",
       "      <td>yes</td>\n",
       "    </tr>\n",
       "    <tr>\n",
       "      <th>4</th>\n",
       "      <td>no</td>\n",
       "      <td>yes</td>\n",
       "      <td>yes</td>\n",
       "    </tr>\n",
       "  </tbody>\n",
       "</table>\n",
       "</div>"
      ],
      "text/plain": [
       "  Blue Wi_Fi Tch_Scr\n",
       "0  yes   yes      no\n",
       "1  yes   yes      no\n",
       "2   no   yes      no\n",
       "3   no   yes     yes\n",
       "4   no   yes     yes"
      ]
     },
     "execution_count": 13,
     "metadata": {},
     "output_type": "execute_result"
    }
   ],
   "source": [
    "# Get the feature names of the dataframe\n",
    "feature=df.iloc[:,1:4]\n",
    "feature.head()"
   ]
  },
  {
   "cell_type": "code",
   "execution_count": 16,
   "metadata": {
    "id": "4qnHqu_vN86H"
   },
   "outputs": [
    {
     "data": {
      "text/html": [
       "<div>\n",
       "<style scoped>\n",
       "    .dataframe tbody tr th:only-of-type {\n",
       "        vertical-align: middle;\n",
       "    }\n",
       "\n",
       "    .dataframe tbody tr th {\n",
       "        vertical-align: top;\n",
       "    }\n",
       "\n",
       "    .dataframe thead th {\n",
       "        text-align: right;\n",
       "    }\n",
       "</style>\n",
       "<table border=\"1\" class=\"dataframe\">\n",
       "  <thead>\n",
       "    <tr style=\"text-align: right;\">\n",
       "      <th></th>\n",
       "      <th>Blue</th>\n",
       "      <th>Wi_Fi</th>\n",
       "      <th>Tch_Scr</th>\n",
       "      <th>Ext_Mem</th>\n",
       "    </tr>\n",
       "  </thead>\n",
       "  <tbody>\n",
       "    <tr>\n",
       "      <th>24</th>\n",
       "      <td>no</td>\n",
       "      <td>yes</td>\n",
       "      <td>yes</td>\n",
       "      <td>yes</td>\n",
       "    </tr>\n",
       "    <tr>\n",
       "      <th>27</th>\n",
       "      <td>yes</td>\n",
       "      <td>yes</td>\n",
       "      <td>yes</td>\n",
       "      <td>yes</td>\n",
       "    </tr>\n",
       "    <tr>\n",
       "      <th>18</th>\n",
       "      <td>no</td>\n",
       "      <td>no</td>\n",
       "      <td>yes</td>\n",
       "      <td>yes</td>\n",
       "    </tr>\n",
       "    <tr>\n",
       "      <th>2</th>\n",
       "      <td>no</td>\n",
       "      <td>yes</td>\n",
       "      <td>no</td>\n",
       "      <td>no</td>\n",
       "    </tr>\n",
       "    <tr>\n",
       "      <th>21</th>\n",
       "      <td>no</td>\n",
       "      <td>yes</td>\n",
       "      <td>yes</td>\n",
       "      <td>yes</td>\n",
       "    </tr>\n",
       "  </tbody>\n",
       "</table>\n",
       "</div>"
      ],
      "text/plain": [
       "   Blue Wi_Fi Tch_Scr Ext_Mem\n",
       "24   no   yes     yes     yes\n",
       "27  yes   yes     yes     yes\n",
       "18   no    no     yes     yes\n",
       "2    no   yes      no      no\n",
       "21   no   yes     yes     yes"
      ]
     },
     "execution_count": 16,
     "metadata": {},
     "output_type": "execute_result"
    }
   ],
   "source": [
    "# Let's tackle these features: \"Blue\", \"Wi_Fi\", \"Tch_Scr\", \"Ext_Mem\"\n",
    "new_feature= df.iloc[:,1:5]\n",
    "new_feature.sample(5)"
   ]
  },
  {
   "cell_type": "code",
   "execution_count": 29,
   "metadata": {
    "id": "8N-jff5hN86I",
    "scrolled": true
   },
   "outputs": [
    {
     "data": {
      "text/html": [
       "<div>\n",
       "<style scoped>\n",
       "    .dataframe tbody tr th:only-of-type {\n",
       "        vertical-align: middle;\n",
       "    }\n",
       "\n",
       "    .dataframe tbody tr th {\n",
       "        vertical-align: top;\n",
       "    }\n",
       "\n",
       "    .dataframe thead th {\n",
       "        text-align: right;\n",
       "    }\n",
       "</style>\n",
       "<table border=\"1\" class=\"dataframe\">\n",
       "  <thead>\n",
       "    <tr style=\"text-align: right;\">\n",
       "      <th></th>\n",
       "      <th>PID</th>\n",
       "      <th>Blue</th>\n",
       "      <th>Wi_Fi</th>\n",
       "      <th>Tch_Scr</th>\n",
       "      <th>Ext_Mem</th>\n",
       "      <th>Px_h</th>\n",
       "      <th>Px_w</th>\n",
       "      <th>Scr_h</th>\n",
       "      <th>Scr_w</th>\n",
       "      <th>PC</th>\n",
       "      <th>FC</th>\n",
       "      <th>Int_Mem</th>\n",
       "      <th>Bty_Pwr</th>\n",
       "      <th>RAM</th>\n",
       "      <th>Depth</th>\n",
       "      <th>Weight</th>\n",
       "      <th>Price</th>\n",
       "    </tr>\n",
       "  </thead>\n",
       "  <tbody>\n",
       "    <tr>\n",
       "      <th>8</th>\n",
       "      <td>DGS789M</td>\n",
       "      <td>yes</td>\n",
       "      <td>yes</td>\n",
       "      <td>yes</td>\n",
       "      <td>yes</td>\n",
       "      <td>2580</td>\n",
       "      <td>1920</td>\n",
       "      <td>6</td>\n",
       "      <td>3</td>\n",
       "      <td>32</td>\n",
       "      <td>16</td>\n",
       "      <td>8</td>\n",
       "      <td>2800</td>\n",
       "      <td>6</td>\n",
       "      <td>3</td>\n",
       "      <td>120</td>\n",
       "      <td>27688</td>\n",
       "    </tr>\n",
       "    <tr>\n",
       "      <th>9</th>\n",
       "      <td>ENG897N</td>\n",
       "      <td>yes</td>\n",
       "      <td>yes</td>\n",
       "      <td>yes</td>\n",
       "      <td>yes</td>\n",
       "      <td>2580</td>\n",
       "      <td>1980</td>\n",
       "      <td>5</td>\n",
       "      <td>3</td>\n",
       "      <td>64</td>\n",
       "      <td>32</td>\n",
       "      <td>64</td>\n",
       "      <td>4380</td>\n",
       "      <td>4</td>\n",
       "      <td>3</td>\n",
       "      <td>150</td>\n",
       "      <td>23456</td>\n",
       "    </tr>\n",
       "    <tr>\n",
       "      <th>10</th>\n",
       "      <td>EOP657N</td>\n",
       "      <td>yes</td>\n",
       "      <td>yes</td>\n",
       "      <td>yes</td>\n",
       "      <td>yes</td>\n",
       "      <td>2580</td>\n",
       "      <td>1920</td>\n",
       "      <td>6</td>\n",
       "      <td>3</td>\n",
       "      <td>32</td>\n",
       "      <td>16</td>\n",
       "      <td>128</td>\n",
       "      <td>2800</td>\n",
       "      <td>4</td>\n",
       "      <td>4</td>\n",
       "      <td>210</td>\n",
       "      <td>35460</td>\n",
       "    </tr>\n",
       "    <tr>\n",
       "      <th>11</th>\n",
       "      <td>ELS333L</td>\n",
       "      <td>yes</td>\n",
       "      <td>yes</td>\n",
       "      <td>yes</td>\n",
       "      <td>yes</td>\n",
       "      <td>2580</td>\n",
       "      <td>1920</td>\n",
       "      <td>8</td>\n",
       "      <td>6</td>\n",
       "      <td>64</td>\n",
       "      <td>32</td>\n",
       "      <td>8</td>\n",
       "      <td>4500</td>\n",
       "      <td>8</td>\n",
       "      <td>4</td>\n",
       "      <td>150</td>\n",
       "      <td>43980</td>\n",
       "    </tr>\n",
       "    <tr>\n",
       "      <th>14</th>\n",
       "      <td>NBN329S</td>\n",
       "      <td>yes</td>\n",
       "      <td>yes</td>\n",
       "      <td>yes</td>\n",
       "      <td>yes</td>\n",
       "      <td>2380</td>\n",
       "      <td>1820</td>\n",
       "      <td>5</td>\n",
       "      <td>3</td>\n",
       "      <td>16</td>\n",
       "      <td>8</td>\n",
       "      <td>8</td>\n",
       "      <td>2800</td>\n",
       "      <td>4</td>\n",
       "      <td>4</td>\n",
       "      <td>80</td>\n",
       "      <td>21972</td>\n",
       "    </tr>\n",
       "    <tr>\n",
       "      <th>27</th>\n",
       "      <td>SFK567Y</td>\n",
       "      <td>yes</td>\n",
       "      <td>yes</td>\n",
       "      <td>yes</td>\n",
       "      <td>yes</td>\n",
       "      <td>2580</td>\n",
       "      <td>2120</td>\n",
       "      <td>8</td>\n",
       "      <td>6</td>\n",
       "      <td>64</td>\n",
       "      <td>16</td>\n",
       "      <td>32</td>\n",
       "      <td>4300</td>\n",
       "      <td>8</td>\n",
       "      <td>3</td>\n",
       "      <td>200</td>\n",
       "      <td>49899</td>\n",
       "    </tr>\n",
       "    <tr>\n",
       "      <th>28</th>\n",
       "      <td>SSD000L</td>\n",
       "      <td>yes</td>\n",
       "      <td>yes</td>\n",
       "      <td>yes</td>\n",
       "      <td>yes</td>\n",
       "      <td>2580</td>\n",
       "      <td>2120</td>\n",
       "      <td>8</td>\n",
       "      <td>6</td>\n",
       "      <td>64</td>\n",
       "      <td>32</td>\n",
       "      <td>512</td>\n",
       "      <td>4200</td>\n",
       "      <td>8</td>\n",
       "      <td>3</td>\n",
       "      <td>270</td>\n",
       "      <td>36555</td>\n",
       "    </tr>\n",
       "    <tr>\n",
       "      <th>30</th>\n",
       "      <td>TVF078Y</td>\n",
       "      <td>yes</td>\n",
       "      <td>yes</td>\n",
       "      <td>yes</td>\n",
       "      <td>yes</td>\n",
       "      <td>2580</td>\n",
       "      <td>2120</td>\n",
       "      <td>8</td>\n",
       "      <td>6</td>\n",
       "      <td>64</td>\n",
       "      <td>32</td>\n",
       "      <td>512</td>\n",
       "      <td>4860</td>\n",
       "      <td>8</td>\n",
       "      <td>3</td>\n",
       "      <td>90</td>\n",
       "      <td>29999</td>\n",
       "    </tr>\n",
       "    <tr>\n",
       "      <th>32</th>\n",
       "      <td>TYS938L</td>\n",
       "      <td>yes</td>\n",
       "      <td>yes</td>\n",
       "      <td>yes</td>\n",
       "      <td>yes</td>\n",
       "      <td>2580</td>\n",
       "      <td>2120</td>\n",
       "      <td>8</td>\n",
       "      <td>6</td>\n",
       "      <td>64</td>\n",
       "      <td>32</td>\n",
       "      <td>1024</td>\n",
       "      <td>4860</td>\n",
       "      <td>8</td>\n",
       "      <td>3</td>\n",
       "      <td>120</td>\n",
       "      <td>46777</td>\n",
       "    </tr>\n",
       "    <tr>\n",
       "      <th>34</th>\n",
       "      <td>TYY453J</td>\n",
       "      <td>yes</td>\n",
       "      <td>yes</td>\n",
       "      <td>yes</td>\n",
       "      <td>yes</td>\n",
       "      <td>2880</td>\n",
       "      <td>2120</td>\n",
       "      <td>6</td>\n",
       "      <td>3</td>\n",
       "      <td>64</td>\n",
       "      <td>32</td>\n",
       "      <td>128</td>\n",
       "      <td>4400</td>\n",
       "      <td>8</td>\n",
       "      <td>4</td>\n",
       "      <td>150</td>\n",
       "      <td>61750</td>\n",
       "    </tr>\n",
       "    <tr>\n",
       "      <th>36</th>\n",
       "      <td>UST000T</td>\n",
       "      <td>yes</td>\n",
       "      <td>yes</td>\n",
       "      <td>yes</td>\n",
       "      <td>yes</td>\n",
       "      <td>2580</td>\n",
       "      <td>1980</td>\n",
       "      <td>10</td>\n",
       "      <td>8</td>\n",
       "      <td>64</td>\n",
       "      <td>32</td>\n",
       "      <td>32</td>\n",
       "      <td>3000</td>\n",
       "      <td>4</td>\n",
       "      <td>4</td>\n",
       "      <td>240</td>\n",
       "      <td>34589</td>\n",
       "    </tr>\n",
       "    <tr>\n",
       "      <th>37</th>\n",
       "      <td>USZ111S</td>\n",
       "      <td>yes</td>\n",
       "      <td>yes</td>\n",
       "      <td>yes</td>\n",
       "      <td>yes</td>\n",
       "      <td>2440</td>\n",
       "      <td>1980</td>\n",
       "      <td>5</td>\n",
       "      <td>3</td>\n",
       "      <td>48</td>\n",
       "      <td>32</td>\n",
       "      <td>128</td>\n",
       "      <td>4800</td>\n",
       "      <td>4</td>\n",
       "      <td>4</td>\n",
       "      <td>230</td>\n",
       "      <td>42300</td>\n",
       "    </tr>\n",
       "    <tr>\n",
       "      <th>38</th>\n",
       "      <td>VWV532Y</td>\n",
       "      <td>yes</td>\n",
       "      <td>yes</td>\n",
       "      <td>yes</td>\n",
       "      <td>yes</td>\n",
       "      <td>2580</td>\n",
       "      <td>1920</td>\n",
       "      <td>5</td>\n",
       "      <td>3</td>\n",
       "      <td>64</td>\n",
       "      <td>32</td>\n",
       "      <td>32</td>\n",
       "      <td>4860</td>\n",
       "      <td>8</td>\n",
       "      <td>4</td>\n",
       "      <td>310</td>\n",
       "      <td>39781</td>\n",
       "    </tr>\n",
       "    <tr>\n",
       "      <th>39</th>\n",
       "      <td>VYI666I</td>\n",
       "      <td>yes</td>\n",
       "      <td>yes</td>\n",
       "      <td>yes</td>\n",
       "      <td>yes</td>\n",
       "      <td>2440</td>\n",
       "      <td>1980</td>\n",
       "      <td>6</td>\n",
       "      <td>5</td>\n",
       "      <td>32</td>\n",
       "      <td>16</td>\n",
       "      <td>32</td>\n",
       "      <td>3200</td>\n",
       "      <td>4</td>\n",
       "      <td>4</td>\n",
       "      <td>180</td>\n",
       "      <td>33460</td>\n",
       "    </tr>\n",
       "    <tr>\n",
       "      <th>40</th>\n",
       "      <td>WER765T</td>\n",
       "      <td>yes</td>\n",
       "      <td>yes</td>\n",
       "      <td>yes</td>\n",
       "      <td>yes</td>\n",
       "      <td>2580</td>\n",
       "      <td>1980</td>\n",
       "      <td>5</td>\n",
       "      <td>3</td>\n",
       "      <td>64</td>\n",
       "      <td>32</td>\n",
       "      <td>128</td>\n",
       "      <td>3000</td>\n",
       "      <td>4</td>\n",
       "      <td>4</td>\n",
       "      <td>120</td>\n",
       "      <td>34780</td>\n",
       "    </tr>\n",
       "    <tr>\n",
       "      <th>41</th>\n",
       "      <td>WUV902Y</td>\n",
       "      <td>yes</td>\n",
       "      <td>yes</td>\n",
       "      <td>yes</td>\n",
       "      <td>yes</td>\n",
       "      <td>2580</td>\n",
       "      <td>1980</td>\n",
       "      <td>8</td>\n",
       "      <td>6</td>\n",
       "      <td>48</td>\n",
       "      <td>16</td>\n",
       "      <td>128</td>\n",
       "      <td>3400</td>\n",
       "      <td>4</td>\n",
       "      <td>3</td>\n",
       "      <td>140</td>\n",
       "      <td>28000</td>\n",
       "    </tr>\n",
       "    <tr>\n",
       "      <th>42</th>\n",
       "      <td>WZB298K</td>\n",
       "      <td>yes</td>\n",
       "      <td>yes</td>\n",
       "      <td>yes</td>\n",
       "      <td>yes</td>\n",
       "      <td>2580</td>\n",
       "      <td>1980</td>\n",
       "      <td>8</td>\n",
       "      <td>6</td>\n",
       "      <td>64</td>\n",
       "      <td>32</td>\n",
       "      <td>1024</td>\n",
       "      <td>5600</td>\n",
       "      <td>8</td>\n",
       "      <td>3</td>\n",
       "      <td>160</td>\n",
       "      <td>39000</td>\n",
       "    </tr>\n",
       "    <tr>\n",
       "      <th>44</th>\n",
       "      <td>XTL675G</td>\n",
       "      <td>yes</td>\n",
       "      <td>yes</td>\n",
       "      <td>yes</td>\n",
       "      <td>yes</td>\n",
       "      <td>2580</td>\n",
       "      <td>1980</td>\n",
       "      <td>10</td>\n",
       "      <td>8</td>\n",
       "      <td>64</td>\n",
       "      <td>32</td>\n",
       "      <td>512</td>\n",
       "      <td>4560</td>\n",
       "      <td>8</td>\n",
       "      <td>3</td>\n",
       "      <td>260</td>\n",
       "      <td>51230</td>\n",
       "    </tr>\n",
       "    <tr>\n",
       "      <th>46</th>\n",
       "      <td>YTR67TY</td>\n",
       "      <td>yes</td>\n",
       "      <td>yes</td>\n",
       "      <td>yes</td>\n",
       "      <td>yes</td>\n",
       "      <td>2580</td>\n",
       "      <td>1980</td>\n",
       "      <td>4</td>\n",
       "      <td>3</td>\n",
       "      <td>64</td>\n",
       "      <td>32</td>\n",
       "      <td>64</td>\n",
       "      <td>2800</td>\n",
       "      <td>4</td>\n",
       "      <td>3</td>\n",
       "      <td>200</td>\n",
       "      <td>56000</td>\n",
       "    </tr>\n",
       "  </tbody>\n",
       "</table>\n",
       "</div>"
      ],
      "text/plain": [
       "        PID Blue Wi_Fi Tch_Scr Ext_Mem  Px_h  Px_w  Scr_h  Scr_w  PC  FC  \\\n",
       "8   DGS789M  yes   yes     yes     yes  2580  1920      6      3  32  16   \n",
       "9   ENG897N  yes   yes     yes     yes  2580  1980      5      3  64  32   \n",
       "10  EOP657N  yes   yes     yes     yes  2580  1920      6      3  32  16   \n",
       "11  ELS333L  yes   yes     yes     yes  2580  1920      8      6  64  32   \n",
       "14  NBN329S  yes   yes     yes     yes  2380  1820      5      3  16   8   \n",
       "27  SFK567Y  yes   yes     yes     yes  2580  2120      8      6  64  16   \n",
       "28  SSD000L  yes   yes     yes     yes  2580  2120      8      6  64  32   \n",
       "30  TVF078Y  yes   yes     yes     yes  2580  2120      8      6  64  32   \n",
       "32  TYS938L  yes   yes     yes     yes  2580  2120      8      6  64  32   \n",
       "34  TYY453J  yes   yes     yes     yes  2880  2120      6      3  64  32   \n",
       "36  UST000T  yes   yes     yes     yes  2580  1980     10      8  64  32   \n",
       "37  USZ111S  yes   yes     yes     yes  2440  1980      5      3  48  32   \n",
       "38  VWV532Y  yes   yes     yes     yes  2580  1920      5      3  64  32   \n",
       "39  VYI666I  yes   yes     yes     yes  2440  1980      6      5  32  16   \n",
       "40  WER765T  yes   yes     yes     yes  2580  1980      5      3  64  32   \n",
       "41  WUV902Y  yes   yes     yes     yes  2580  1980      8      6  48  16   \n",
       "42  WZB298K  yes   yes     yes     yes  2580  1980      8      6  64  32   \n",
       "44  XTL675G  yes   yes     yes     yes  2580  1980     10      8  64  32   \n",
       "46  YTR67TY  yes   yes     yes     yes  2580  1980      4      3  64  32   \n",
       "\n",
       "    Int_Mem  Bty_Pwr  RAM  Depth  Weight  Price  \n",
       "8         8     2800    6      3     120  27688  \n",
       "9        64     4380    4      3     150  23456  \n",
       "10      128     2800    4      4     210  35460  \n",
       "11        8     4500    8      4     150  43980  \n",
       "14        8     2800    4      4      80  21972  \n",
       "27       32     4300    8      3     200  49899  \n",
       "28      512     4200    8      3     270  36555  \n",
       "30      512     4860    8      3      90  29999  \n",
       "32     1024     4860    8      3     120  46777  \n",
       "34      128     4400    8      4     150  61750  \n",
       "36       32     3000    4      4     240  34589  \n",
       "37      128     4800    4      4     230  42300  \n",
       "38       32     4860    8      4     310  39781  \n",
       "39       32     3200    4      4     180  33460  \n",
       "40      128     3000    4      4     120  34780  \n",
       "41      128     3400    4      3     140  28000  \n",
       "42     1024     5600    8      3     160  39000  \n",
       "44      512     4560    8      3     260  51230  \n",
       "46       64     2800    4      3     200  56000  "
      ]
     },
     "execution_count": 29,
     "metadata": {},
     "output_type": "execute_result"
    }
   ],
   "source": [
    "# The children want phones that have the following: Bluetooth, WiFi, touch screen and external memory support\n",
    "# Create a logical condition for this situation and store the logical values as \"con1\"\n",
    "\n",
    "child_requirement =(df['Blue'] == 'yes') & (df['Wi_Fi'] == 'yes') & (df['Tch_Scr'] == 'yes') & (df['Ext_Mem'] == 'yes')\n",
    "# print(child_requirement)\n",
    "\n",
    "filtered_df = df[child_requirement]\n",
    "filtered_df"
   ]
  },
  {
   "cell_type": "markdown",
   "metadata": {
    "id": "KilesitnQjMF"
   },
   "source": [
    "Observations:\n",
    "\n",
    "The features \"Blue\", \"Wi_Fi\", \"Tch_Scr\" and \"Ext_Mem\" are binary in nature.\n",
    "\n",
    "The children want all these features, so the logical condition \"con1\" has been obtained accordingly."
   ]
  },
  {
   "cell_type": "markdown",
   "metadata": {
    "id": "n8qZScOZQsj3"
   },
   "source": [
    "## Task 3 - Obtain the logical conditions for the features \"Px_h\" and \"Px_w\""
   ]
  },
  {
   "cell_type": "code",
   "execution_count": 11,
   "metadata": {
    "id": "UgpsX9ZYN86M"
   },
   "outputs": [],
   "source": [
    "# Get the feature names of the dataframe\n"
   ]
  },
  {
   "cell_type": "code",
   "execution_count": null,
   "metadata": {
    "id": "HvY0q-JeN86N"
   },
   "outputs": [],
   "source": [
    "# Let's tackle these features: \"Px_h\", \"Px_w\"\n"
   ]
  },
  {
   "cell_type": "code",
   "execution_count": 12,
   "metadata": {
    "id": "9g8VvPLiN86O"
   },
   "outputs": [],
   "source": [
    "# Create a new feature called \"Px\" which stores the total resolution of the screen\n",
    "\n"
   ]
  },
  {
   "cell_type": "code",
   "execution_count": 13,
   "metadata": {
    "id": "nbYsIHpjN86P"
   },
   "outputs": [],
   "source": [
    "# Create a histogram of the \"Px\" feature and also show the mean and the median\n",
    "\n",
    "\n"
   ]
  },
  {
   "cell_type": "code",
   "execution_count": 14,
   "metadata": {
    "id": "SxaYgagyN86Q"
   },
   "outputs": [],
   "source": [
    "# The children want phones that have good screen resolutions\n",
    "# Consider the phones that have screen resolutions greater than or equal to the median value in the data set\n",
    "# Create a logical condition for this situation and store the logical values as \"con2\"\n",
    "\n",
    "\n",
    "\n"
   ]
  },
  {
   "cell_type": "markdown",
   "metadata": {
    "id": "M-DC9VY2RBZQ"
   },
   "source": [
    "Observations:\n",
    "\n",
    "The features \"Px_h\" and \"Px_w\" are respectively the number of pixels in the phone screen in the vertical and horizontal axes.\n",
    "\n",
    "We created a new feature called \"Px\" which is the product of the features \"Px_h\" and \"Px_w\".\n",
    "\n",
    "The median has been selected as a threshold in this case.\n",
    "\n",
    "In case it is too strict, we can choose the mean as a threshold."
   ]
  },
  {
   "cell_type": "markdown",
   "metadata": {
    "id": "ih3ev8-0RJg5"
   },
   "source": [
    "# Task 4 - Obtain the logical conditions for the features \"Scr_h\" and \"Scr_w\""
   ]
  },
  {
   "cell_type": "code",
   "execution_count": null,
   "metadata": {
    "id": "EsEcEKKTN86T"
   },
   "outputs": [],
   "source": [
    "# Let's tackle these features: \"Scr_h\", \"Scr_w\""
   ]
  },
  {
   "cell_type": "code",
   "execution_count": 16,
   "metadata": {
    "id": "qTOcx3FCN86U"
   },
   "outputs": [],
   "source": [
    "# Create a new feature called \"Scr_d\" which stores the length of the diagonal of the screen of the phone\n",
    "\n",
    "\n"
   ]
  },
  {
   "cell_type": "code",
   "execution_count": 17,
   "metadata": {
    "id": "83gzdEN7N86U"
   },
   "outputs": [],
   "source": [
    "# Create a histogram of the \"Scr_d\" feature and also show the quartiles\n",
    "\n"
   ]
  },
  {
   "cell_type": "code",
   "execution_count": 18,
   "metadata": {
    "id": "aEvL_TPSN86V"
   },
   "outputs": [],
   "source": [
    "# The children want phones that have very good screen sizes\n",
    "# Consider the phones that have screen sizes greater than or equal to the upper quartile value in the data set\n",
    "# Create a logical condition for this situation and store the logical values as \"con3\"\n",
    "\n",
    "\n"
   ]
  },
  {
   "cell_type": "markdown",
   "metadata": {
    "id": "BKDitmp9RZDe"
   },
   "source": [
    "Observations:\n",
    "\n",
    "The features \"Scr_h\" and \"Scr_w\" are respectively the height and the width of the phone screen.\n",
    "\n",
    "We created a new feature called \"Scr_d\" which is essentially the length of the screen diagonal.\n",
    "\n",
    "The upper quartile has been selected as a threshold in this case as the children were very particular on this point.\n",
    "\n",
    "In case it is too strict, we can choose the mean or the median as a threshold."
   ]
  },
  {
   "cell_type": "markdown",
   "metadata": {
    "id": "21dZEsZRRikD"
   },
   "source": [
    "# Task 5 - Obtain the logical conditions for the features \"PC\" and \"FC\""
   ]
  },
  {
   "cell_type": "code",
   "execution_count": null,
   "metadata": {
    "id": "lCQR8DBRN86Y"
   },
   "outputs": [],
   "source": [
    "# Let's tackle these features: \"PC\", \"FC\""
   ]
  },
  {
   "cell_type": "code",
   "execution_count": 20,
   "metadata": {
    "id": "KtH-XWmqN86Z"
   },
   "outputs": [],
   "source": [
    "# Create a histogram of the \"PC\" feature and also show the mean and the median\n",
    "\n",
    "\n"
   ]
  },
  {
   "cell_type": "code",
   "execution_count": 21,
   "metadata": {
    "id": "vMp3OWR0N86a"
   },
   "outputs": [],
   "source": [
    "# Create a histogram of the \"FC\" feature and also show the mean and the median\n",
    "\n",
    "\n"
   ]
  },
  {
   "cell_type": "code",
   "execution_count": 22,
   "metadata": {
    "id": "uwOY8IGoN86a"
   },
   "outputs": [],
   "source": [
    "# The children want phones that have good primary and front camera resolutions\n",
    "# Consider the phones that have primary and front camera resolutions greater than or equal to their respective mean values\n",
    "# Create a logical condition for this situation and store the logical values as \"con4\"\n",
    "\n",
    "\n"
   ]
  },
  {
   "cell_type": "markdown",
   "metadata": {
    "id": "jo7yqfJSRvNT"
   },
   "source": [
    "Observations:\n",
    "\n",
    "The features \"PC\" and \"FC\" are respectively the resolutions of the primary camera and the front camera.\n",
    "\n",
    "The respective means have been selected as thresholds in this case.\n",
    "\n",
    "In case it is too strict, we can choose the respective medians as thresholds."
   ]
  },
  {
   "cell_type": "markdown",
   "metadata": {
    "id": "iu0E_MTAR3Pn"
   },
   "source": [
    "# Task 6 - Obtain the logical conditions for the features \"Int_Mem\", \"Bty_Pwr\" and \"RAM\""
   ]
  },
  {
   "cell_type": "code",
   "execution_count": null,
   "metadata": {
    "id": "tnBJk7xFN86d"
   },
   "outputs": [],
   "source": [
    "# Let's tackle these features: \"Int_Mem\", \"Bty_Pwr\", \"RAM\""
   ]
  },
  {
   "cell_type": "code",
   "execution_count": 23,
   "metadata": {
    "id": "YMBT6fVEN86e"
   },
   "outputs": [],
   "source": [
    "# Create a histogram of the \"Int_Mem\" feature and also show the mean and the median\n",
    "\n",
    "\n"
   ]
  },
  {
   "cell_type": "code",
   "execution_count": 24,
   "metadata": {
    "id": "oPjFp16vN86e"
   },
   "outputs": [],
   "source": [
    "# Create a histogram of the \"Bty_Pwr\" feature and also show the mean and the median\n",
    "\n",
    "\n"
   ]
  },
  {
   "cell_type": "code",
   "execution_count": 25,
   "metadata": {
    "id": "TS83YmlQN86f"
   },
   "outputs": [],
   "source": [
    "# Create a histogram of the \"RAM\" feature and also show the mean and the median\n",
    "\n",
    "\n"
   ]
  },
  {
   "cell_type": "code",
   "execution_count": 26,
   "metadata": {
    "id": "Ty-VGMoDN86g"
   },
   "outputs": [],
   "source": [
    "# The children want phones that have good internal memory, battery power and RAM\n",
    "# Consider the phones that have internal memory, battery power and RAM greater than or equal to their respective mean values\n",
    "# Create a logical condition for this situation and store the logical values as \"con5\"\n",
    "\n",
    "\n"
   ]
  },
  {
   "cell_type": "markdown",
   "metadata": {
    "id": "u5RzvXKoSHaw"
   },
   "source": [
    "Observations\n",
    "\n",
    "The features \"Int_Mem\", \"Bty_Pwr\" and \"RAM\" are respectively the internal memory, battery power and RAM of the phones.\n",
    "\n",
    "The respective means have been selected as thresholds in this case.\n",
    "\n",
    ".In case it is too strict, we can choose the respective medians as thresholds"
   ]
  },
  {
   "cell_type": "markdown",
   "metadata": {
    "id": "VVeYghyESO9y"
   },
   "source": [
    "# Task 7 - Obtain the logical conditions for the features \"Depth\" and \"Weight\""
   ]
  },
  {
   "cell_type": "code",
   "execution_count": 27,
   "metadata": {
    "id": "07nm7-V1N86j"
   },
   "outputs": [],
   "source": [
    "# Let's tackle these features: \"Depth\", \"Weight\""
   ]
  },
  {
   "cell_type": "code",
   "execution_count": 28,
   "metadata": {
    "id": "e88FFbusN86k"
   },
   "outputs": [],
   "source": [
    "# Create a histogram of the \"Depth\" feature and also show the mean and the median\n",
    "\n",
    "\n"
   ]
  },
  {
   "cell_type": "code",
   "execution_count": 29,
   "metadata": {
    "id": "-lXTqLttN86l"
   },
   "outputs": [],
   "source": [
    "# Create a histogram of the \"Weight\" feature and also show the mean and the median\n",
    "\n",
    "\n"
   ]
  },
  {
   "cell_type": "code",
   "execution_count": 30,
   "metadata": {
    "id": "7ZYJmwzJN86l"
   },
   "outputs": [],
   "source": [
    "# The children want phones that are light weight and slim\n",
    "# Consider the phones that have depth and weight less than or equal to the respective median values in the data set\n",
    "# Create a logical condition for this situation and store the logical values as \"con6\"\n",
    "\n",
    "\n"
   ]
  },
  {
   "cell_type": "markdown",
   "metadata": {
    "id": "l32BIHsdSbHy"
   },
   "source": [
    "Observations:\n",
    "\n",
    "The features \"Depth\" and \"Weight\" are respectively the depth of the phone and the weight of the phone.\n",
    "\n",
    "The respective medians have been selected as thresholds in this case.\n",
    "\n",
    "In case it is too strict, we can choose the respective means as thresholds."
   ]
  },
  {
   "cell_type": "markdown",
   "metadata": {
    "id": "3UYMHQseSjZp"
   },
   "source": [
    "# Task 8 - Subset the data based on all the logical conditions"
   ]
  },
  {
   "cell_type": "code",
   "execution_count": 33,
   "metadata": {
    "id": "iKFweH2xN86o"
   },
   "outputs": [],
   "source": [
    "# Subset the dataframe using all the logical conditions that have been stored\n",
    "# Store the subset of the dataframe as a new dataframe called \"df1\"\n",
    "\n",
    "\n"
   ]
  },
  {
   "cell_type": "code",
   "execution_count": 34,
   "metadata": {
    "id": "Y0Bp7BKkN86o"
   },
   "outputs": [],
   "source": [
    "# Get the dimensions of the dataframe\n",
    "\n"
   ]
  },
  {
   "cell_type": "code",
   "execution_count": 35,
   "metadata": {
    "id": "H5tg2OEkN86p"
   },
   "outputs": [],
   "source": [
    "# Sort the dataframe according to the \"Price\" feature in ascending order and display it\n",
    "\n"
   ]
  },
  {
   "cell_type": "markdown",
   "metadata": {
    "id": "Zn6iT-HQSocg"
   },
   "source": [
    "Observations:\n",
    "\n",
    "Based on all the logical conditions obtained through analysis of the features, we are left with three phones.\n",
    "\n",
    "The most expensive of these phones is the \"TYS938L\" model and the least expensive is the \"TVF078Y\" model.\n",
    "\n",
    "We could let the children choose from these three phones as per their preferences."
   ]
  },
  {
   "cell_type": "markdown",
   "metadata": {
    "id": "O09ZVXlbSvhj"
   },
   "source": [
    "# Task 9 - Study the variability of the features in the original data set"
   ]
  },
  {
   "cell_type": "code",
   "execution_count": 36,
   "metadata": {
    "id": "grfzKBDyN86r"
   },
   "outputs": [],
   "source": [
    "# Calculate the ratio of the standard deviation to the mean for all the numerical features in the dataframe\n",
    "# Store these values in a new series wherein the rows are the features and the only column is the calculated ratio\n",
    "# Name the series as \"deviations\"\n",
    "\n",
    "\n"
   ]
  },
  {
   "cell_type": "code",
   "execution_count": 37,
   "metadata": {
    "id": "sBRqrnVaN86s"
   },
   "outputs": [],
   "source": [
    "# View the \"deviations\" series after sorting it in descending order\n",
    "\n"
   ]
  },
  {
   "cell_type": "markdown",
   "metadata": {
    "id": "RSypqWHuSzJU"
   },
   "source": [
    "Observations:\n",
    "\n",
    "The ratio of the standard deviation to the mean of a feature normalises it in a way.\n",
    "\n",
    "This allows for comparison between multiple features.\n",
    "\n",
    "The most variable feature in the original data set is the internal memory of the phones.\n",
    "\n",
    "The least variable feature in the original data set is the number of screen pixels in the horizontal axis.\n",
    "\n",
    "Although most features don't seem so variable, the prices of the phones are quite variable.\n",
    "\n",
    "Feel free to investigate what could be the cause of this difference in variability.\n",
    "\n",
    "Note: We encourage you to extend this analysis further and see what else you can find.\n",
    "\n",
    "Note: Please refer to the official website of Python and its libraries for various Python documentations."
   ]
  },
  {
   "cell_type": "markdown",
   "metadata": {
    "id": "kE4_U-R9TI_d"
   },
   "source": [
    "# Conclusion\n",
    "1. We have used concepts of descriptive statistics to study and work with a data set that contains mobile phone specifications.\n",
    "\n",
    "2. We were able to recommend three phone models to the client which she can then propose to her children."
   ]
  },
  {
   "cell_type": "code",
   "execution_count": null,
   "metadata": {
    "id": "8TQnykmJhK6w"
   },
   "outputs": [],
   "source": []
  }
 ],
 "metadata": {
  "colab": {
   "provenance": []
  },
  "kernelspec": {
   "display_name": "Python 3 (ipykernel)",
   "language": "python",
   "name": "python3"
  },
  "language_info": {
   "codemirror_mode": {
    "name": "ipython",
    "version": 3
   },
   "file_extension": ".py",
   "mimetype": "text/x-python",
   "name": "python",
   "nbconvert_exporter": "python",
   "pygments_lexer": "ipython3",
   "version": "3.11.1"
  }
 },
 "nbformat": 4,
 "nbformat_minor": 1
}
