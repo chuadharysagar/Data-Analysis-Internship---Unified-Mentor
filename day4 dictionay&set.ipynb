{
 "cells": [
  {
   "cell_type": "code",
   "execution_count": 8,
   "id": "0474110e",
   "metadata": {},
   "outputs": [
    {
     "name": "stdout",
     "output_type": "stream",
     "text": [
      "{'brand': 'ford', 'model': 'mustang', 'year': 1998}\n"
     ]
    }
   ],
   "source": [
    "#DICTIONARY AND IT'S METHOOD (key and values pairs)\n",
    "#Dictionary are odered and duplicate keys are not allowed\n",
    "car={\n",
    "    \"brand\":\"ford\",\n",
    "    \"model\":\"mustang\",\n",
    "    \"year\":1998\n",
    "}\n",
    "\n",
    "print(car)\n",
    "\n"
   ]
  },
  {
   "cell_type": "code",
   "execution_count": 2,
   "id": "bffe97ce",
   "metadata": {},
   "outputs": [
    {
     "data": {
      "text/plain": [
       "1998"
      ]
     },
     "execution_count": 2,
     "metadata": {},
     "output_type": "execute_result"
    }
   ],
   "source": [
    "#dict.get(keys)=value method\n",
    "car.get(\"year\")"
   ]
  },
  {
   "cell_type": "code",
   "execution_count": 3,
   "id": "1a8db8f5",
   "metadata": {},
   "outputs": [
    {
     "data": {
      "text/plain": [
       "dict_items([('brand', 'ford'), (',odel', 'mustang'), ('year', 1998)])"
      ]
     },
     "execution_count": 3,
     "metadata": {},
     "output_type": "execute_result"
    }
   ],
   "source": [
    "#combination of values and pairs \n",
    "car.items()"
   ]
  },
  {
   "cell_type": "code",
   "execution_count": 4,
   "id": "f73637c8",
   "metadata": {},
   "outputs": [
    {
     "data": {
      "text/plain": [
       "dict_keys(['brand', ',odel', 'year'])"
      ]
     },
     "execution_count": 4,
     "metadata": {},
     "output_type": "execute_result"
    }
   ],
   "source": [
    "#all the keys of the dictionary\n",
    "car.keys()"
   ]
  },
  {
   "cell_type": "code",
   "execution_count": 5,
   "id": "cb993de3",
   "metadata": {},
   "outputs": [
    {
     "data": {
      "text/plain": [
       "dict_values(['ford', 'mustang', 1998])"
      ]
     },
     "execution_count": 5,
     "metadata": {},
     "output_type": "execute_result"
    }
   ],
   "source": [
    "#alll the valuies of the dictionary (only values)\n",
    "car.values()"
   ]
  },
  {
   "cell_type": "code",
   "execution_count": 9,
   "id": "2c7f7c94",
   "metadata": {},
   "outputs": [
    {
     "data": {
      "text/plain": [
       "'mustang'"
      ]
     },
     "execution_count": 9,
     "metadata": {},
     "output_type": "execute_result"
    }
   ],
   "source": [
    "#pop pop the any key delete the keya nd value pair\n",
    "# in pop we have to specify that which key we eant to delete\n",
    "car.pop(\"model\")"
   ]
  },
  {
   "cell_type": "code",
   "execution_count": 10,
   "id": "97746a65",
   "metadata": {},
   "outputs": [
    {
     "data": {
      "text/plain": [
       "('year', 1998)"
      ]
     },
     "execution_count": 10,
     "metadata": {},
     "output_type": "execute_result"
    }
   ],
   "source": [
    "#popitem -- will deltet he last elemenmt  of the dictionry\n",
    "car.popitem()  #year is deleted"
   ]
  },
  {
   "cell_type": "code",
   "execution_count": 13,
   "id": "859368f9",
   "metadata": {},
   "outputs": [
    {
     "name": "stdout",
     "output_type": "stream",
     "text": [
      "{'brand': 'ford', 'color': 'black'}\n"
     ]
    }
   ],
   "source": [
    "#update method adddimng od the element \n",
    "car.update({\"color\":\"black\"})\n",
    "print(car)"
   ]
  },
  {
   "cell_type": "code",
   "execution_count": 17,
   "id": "7e01420a",
   "metadata": {},
   "outputs": [
    {
     "name": "stdout",
     "output_type": "stream",
     "text": [
      "car\n"
     ]
    }
   ],
   "source": [
    "#clear method to empty the list tyo create empty dictionary\n",
    "car.clear()\n",
    "print('car')"
   ]
  },
  {
   "cell_type": "markdown",
   "id": "60e08c42",
   "metadata": {},
   "source": [
    "# SET Method"
   ]
  },
  {
   "cell_type": "code",
   "execution_count": 31,
   "id": "4c61ac6a",
   "metadata": {},
   "outputs": [
    {
     "data": {
      "text/plain": [
       "{'apple', 'banana', 'cherry'}"
      ]
     },
     "execution_count": 31,
     "metadata": {},
     "output_type": "execute_result"
    }
   ],
   "source": [
    "#it does not allow the duplicate values \n",
    "#random\n",
    "fruits={\"apple\",\"banana\",\"cherry\"}\n",
    "fruits"
   ]
  },
  {
   "cell_type": "code",
   "execution_count": 26,
   "id": "5add31a2",
   "metadata": {},
   "outputs": [
    {
     "data": {
      "text/plain": [
       "{'apple', 'banana', 'mausami'}"
      ]
     },
     "execution_count": 26,
     "metadata": {},
     "output_type": "execute_result"
    }
   ],
   "source": [
    "# add item in set\n",
    "fruits.add(\"mausami\")\n",
    "fruits"
   ]
  },
  {
   "cell_type": "code",
   "execution_count": 27,
   "id": "43bc2685",
   "metadata": {},
   "outputs": [
    {
     "name": "stdout",
     "output_type": "stream",
     "text": [
      "{'mausami', 'apple'}\n"
     ]
    }
   ],
   "source": [
    "# delete a random element \n",
    "fruits.pop()\n",
    "print(fruits)"
   ]
  },
  {
   "cell_type": "code",
   "execution_count": 32,
   "id": "72eed429",
   "metadata": {},
   "outputs": [],
   "source": [
    "#for particular iotem\n",
    "fruits.remove(\"apple\")\n"
   ]
  },
  {
   "cell_type": "code",
   "execution_count": 34,
   "id": "f8e4f77d",
   "metadata": {},
   "outputs": [
    {
     "name": "stdout",
     "output_type": "stream",
     "text": [
      "{1, 3}\n"
     ]
    }
   ],
   "source": [
    "a={1,3,5,7}\n",
    "b={4,7,5,2}\n",
    "\n",
    "#difference \n",
    "print(a.difference(b))"
   ]
  },
  {
   "cell_type": "code",
   "execution_count": 35,
   "id": "85356b7e",
   "metadata": {},
   "outputs": [
    {
     "name": "stdout",
     "output_type": "stream",
     "text": [
      "{5, 7}\n"
     ]
    }
   ],
   "source": [
    "#intersetion \n",
    "#all the common element of the both set\n",
    "print(a.intersection(b))"
   ]
  },
  {
   "cell_type": "code",
   "execution_count": 36,
   "id": "4e222e9d",
   "metadata": {},
   "outputs": [
    {
     "name": "stdout",
     "output_type": "stream",
     "text": [
      "{1, 2, 3, 4, 5, 7}\n"
     ]
    }
   ],
   "source": [
    "#union -non repeated all the values of both set\n",
    "print(a.union(b))"
   ]
  },
  {
   "cell_type": "code",
   "execution_count": null,
   "id": "a79e607c",
   "metadata": {},
   "outputs": [],
   "source": []
  }
 ],
 "metadata": {
  "kernelspec": {
   "display_name": "Python 3 (ipykernel)",
   "language": "python",
   "name": "python3"
  },
  "language_info": {
   "codemirror_mode": {
    "name": "ipython",
    "version": 3
   },
   "file_extension": ".py",
   "mimetype": "text/x-python",
   "name": "python",
   "nbconvert_exporter": "python",
   "pygments_lexer": "ipython3",
   "version": "3.11.1"
  }
 },
 "nbformat": 4,
 "nbformat_minor": 5
}
