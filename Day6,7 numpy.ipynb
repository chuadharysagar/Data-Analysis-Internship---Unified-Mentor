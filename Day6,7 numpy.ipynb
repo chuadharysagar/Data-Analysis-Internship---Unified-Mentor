{
 "cells": [
  {
   "cell_type": "code",
   "execution_count": 2,
   "id": "468f7d94",
   "metadata": {},
   "outputs": [],
   "source": [
    "import numpy as np"
   ]
  },
  {
   "cell_type": "code",
   "execution_count": 4,
   "id": "904ba605",
   "metadata": {},
   "outputs": [
    {
     "data": {
      "text/plain": [
       "0"
      ]
     },
     "execution_count": 4,
     "metadata": {},
     "output_type": "execute_result"
    }
   ],
   "source": [
    "#scaler array :- if itr contains only one elemnt\n",
    "ar=np.array(7)\n",
    "np.ndim(ar)"
   ]
  },
  {
   "cell_type": "code",
   "execution_count": 6,
   "id": "41fcef23",
   "metadata": {},
   "outputs": [
    {
     "data": {
      "text/plain": [
       "array([ 1,  2,  3,  4,  5,  6,  7,  8,  9, 10, 11, 12])"
      ]
     },
     "execution_count": 6,
     "metadata": {},
     "output_type": "execute_result"
    }
   ],
   "source": [
    "#reshaping the array\n",
    "arr=np.array([1,2,3,4,5,6,7,8,9,10,11,12])\n",
    "arr\n"
   ]
  },
  {
   "cell_type": "code",
   "execution_count": 8,
   "id": "3d571974",
   "metadata": {},
   "outputs": [
    {
     "data": {
      "text/plain": [
       "array([[ 1,  2,  3],\n",
       "       [ 4,  5,  6],\n",
       "       [ 7,  8,  9],\n",
       "       [10, 11, 12]])"
      ]
     },
     "execution_count": 8,
     "metadata": {},
     "output_type": "execute_result"
    }
   ],
   "source": [
    "newarr=arr.reshape(4,3)\n",
    "newarr"
   ]
  },
  {
   "cell_type": "markdown",
   "id": "b82e6dce",
   "metadata": {},
   "source": [
    "# Numpy major and minors\n"
   ]
  },
  {
   "cell_type": "code",
   "execution_count": 7,
   "id": "3e5b42ea",
   "metadata": {},
   "outputs": [
    {
     "data": {
      "text/plain": [
       "array([[1, 2, 3],\n",
       "       [4, 5, 6]])"
      ]
     },
     "execution_count": 7,
     "metadata": {},
     "output_type": "execute_result"
    }
   ],
   "source": [
    "#axis =1 (column)\n",
    "#axis = 0 (row)\n",
    "a= np.array([[1,2,3],[4,5,6]])\n",
    "a"
   ]
  },
  {
   "cell_type": "code",
   "execution_count": 10,
   "id": "c8aae8c7",
   "metadata": {},
   "outputs": [
    {
     "data": {
      "text/plain": [
       "array([1, 2, 3, 4, 5, 6, 7, 8, 9])"
      ]
     },
     "execution_count": 10,
     "metadata": {},
     "output_type": "execute_result"
    }
   ],
   "source": [
    "#by default it is in row\n",
    "# with out specification of the column it will trun the array into 1d aray\n",
    "np.append(a,[[7,8,9]])"
   ]
  },
  {
   "cell_type": "code",
   "execution_count": 9,
   "id": "663f21d1",
   "metadata": {},
   "outputs": [
    {
     "data": {
      "text/plain": [
       "array([[ 1,  2,  3],\n",
       "       [ 4,  5,  6],\n",
       "       [11, 22, 33]])"
      ]
     },
     "execution_count": 9,
     "metadata": {},
     "output_type": "execute_result"
    }
   ],
   "source": [
    "#append in row\n",
    "np.append(a,[[11,22,33]],axis=0)"
   ]
  },
  {
   "cell_type": "code",
   "execution_count": 13,
   "id": "4488ecc7",
   "metadata": {},
   "outputs": [
    {
     "data": {
      "text/plain": [
       "array([[ 1,  2,  3, 66],\n",
       "       [ 4,  5,  6, 77]])"
      ]
     },
     "execution_count": 13,
     "metadata": {},
     "output_type": "execute_result"
    }
   ],
   "source": [
    "#appendt the new column appending in column\n",
    "np.append(a,[[66],[77]],axis=1)"
   ]
  },
  {
   "cell_type": "markdown",
   "id": "878df1fd",
   "metadata": {},
   "source": [
    "Insert into the numpy array"
   ]
  },
  {
   "cell_type": "code",
   "execution_count": 15,
   "id": "b4be304f",
   "metadata": {},
   "outputs": [
    {
     "data": {
      "text/plain": [
       "array([[1, 2],\n",
       "       [3, 4],\n",
       "       [5, 6]])"
      ]
     },
     "execution_count": 15,
     "metadata": {},
     "output_type": "execute_result"
    }
   ],
   "source": [
    "b=np.array([[1,2],\n",
    "           [3,4],\n",
    "           [5,6]])\n",
    "\n",
    "b"
   ]
  },
  {
   "cell_type": "code",
   "execution_count": 16,
   "id": "38c2a662",
   "metadata": {},
   "outputs": [
    {
     "data": {
      "text/plain": [
       "array([ 1,  2, 44, 33,  3,  4,  5,  6])"
      ]
     },
     "execution_count": 16,
     "metadata": {},
     "output_type": "execute_result"
    }
   ],
   "source": [
    "#syntax= np.insert(arr,index,newelement)\n",
    "#if we add iD arrray\n",
    "np.insert(b,2,[44,33])"
   ]
  },
  {
   "cell_type": "code",
   "execution_count": 23,
   "id": "544d1294",
   "metadata": {},
   "outputs": [
    {
     "data": {
      "text/plain": [
       "array([[ 1,  2],\n",
       "       [20, 30],\n",
       "       [ 3,  4],\n",
       "       [ 5,  6]])"
      ]
     },
     "execution_count": 23,
     "metadata": {},
     "output_type": "execute_result"
    }
   ],
   "source": [
    "#row insert\n",
    "np.insert(b,1,[20,30],axis=0)"
   ]
  },
  {
   "cell_type": "code",
   "execution_count": 28,
   "id": "10861e61",
   "metadata": {},
   "outputs": [
    {
     "data": {
      "text/plain": [
       "array([[ 1,  2, 11],\n",
       "       [ 3,  4, 33],\n",
       "       [ 5,  6, 77]])"
      ]
     },
     "execution_count": 28,
     "metadata": {},
     "output_type": "execute_result"
    }
   ],
   "source": [
    "#column insert #no of row == values to insert in arr\n",
    "np.insert(b,2,[11,33,77],axis=1)"
   ]
  },
  {
   "cell_type": "markdown",
   "id": "e6a39be9",
   "metadata": {},
   "source": [
    "Delete In np array"
   ]
  },
  {
   "cell_type": "code",
   "execution_count": 30,
   "id": "432b6ddc",
   "metadata": {},
   "outputs": [
    {
     "data": {
      "text/plain": [
       "array([[1, 2, 3],\n",
       "       [4, 5, 6],\n",
       "       [7, 8, 9]])"
      ]
     },
     "execution_count": 30,
     "metadata": {},
     "output_type": "execute_result"
    }
   ],
   "source": [
    "c= np.array([[1,2,3],[4,5,6],[7,8,9]])\n",
    "c"
   ]
  },
  {
   "cell_type": "code",
   "execution_count": 32,
   "id": "fd02b3fe",
   "metadata": {},
   "outputs": [
    {
     "data": {
      "text/plain": [
       "2"
      ]
     },
     "execution_count": 32,
     "metadata": {},
     "output_type": "execute_result"
    }
   ],
   "source": [
    "np.ndim(a)"
   ]
  },
  {
   "cell_type": "code",
   "execution_count": 33,
   "id": "5855ce60",
   "metadata": {},
   "outputs": [
    {
     "data": {
      "text/plain": [
       "array([1, 2, 4, 5, 6, 7, 8, 9])"
      ]
     },
     "execution_count": 33,
     "metadata": {},
     "output_type": "execute_result"
    }
   ],
   "source": [
    "#delete according to the arra indexd in array \n",
    "#it's convert intp the 1D array and delete the partricular index\n",
    "np.delete(c,2)"
   ]
  },
  {
   "cell_type": "code",
   "execution_count": 34,
   "id": "fc945d22",
   "metadata": {},
   "outputs": [
    {
     "data": {
      "text/plain": [
       "array([[1, 3],\n",
       "       [4, 6],\n",
       "       [7, 9]])"
      ]
     },
     "execution_count": 34,
     "metadata": {},
     "output_type": "execute_result"
    }
   ],
   "source": [
    "#if we givw the axis it will delete the entire rwo or column based on the axis valiues\n",
    "np.delete(c,1,axis=1)"
   ]
  },
  {
   "cell_type": "code",
   "execution_count": 35,
   "id": "2da261de",
   "metadata": {},
   "outputs": [
    {
     "data": {
      "text/plain": [
       "array([[4, 5, 6],\n",
       "       [7, 8, 9]])"
      ]
     },
     "execution_count": 35,
     "metadata": {},
     "output_type": "execute_result"
    }
   ],
   "source": [
    "#in terms of row\n",
    "np.delete(c,0,axis=0)"
   ]
  },
  {
   "cell_type": "markdown",
   "id": "1c107f38",
   "metadata": {},
   "source": [
    "Hstack and Vstack\n",
    "\n",
    "### Hsatack is used to join the array horizontally (by row)\n",
    "### Vstack is used to join the array verticaly(by Column)"
   ]
  },
  {
   "cell_type": "code",
   "execution_count": 1,
   "id": "d7b61ec6",
   "metadata": {},
   "outputs": [
    {
     "ename": "NameError",
     "evalue": "name 'np' is not defined",
     "output_type": "error",
     "traceback": [
      "\u001b[1;31m---------------------------------------------------------------------------\u001b[0m",
      "\u001b[1;31mNameError\u001b[0m                                 Traceback (most recent call last)",
      "Cell \u001b[1;32mIn[1], line 1\u001b[0m\n\u001b[1;32m----> 1\u001b[0m d\u001b[38;5;241m=\u001b[39m\u001b[43mnp\u001b[49m\u001b[38;5;241m.\u001b[39marray([\u001b[38;5;241m1\u001b[39m,\u001b[38;5;241m2\u001b[39m,\u001b[38;5;241m3\u001b[39m])\n\u001b[0;32m      2\u001b[0m e\u001b[38;5;241m=\u001b[39mnp\u001b[38;5;241m.\u001b[39marray([\u001b[38;5;241m4\u001b[39m,\u001b[38;5;241m5\u001b[39m,\u001b[38;5;241m6\u001b[39m])\n",
      "\u001b[1;31mNameError\u001b[0m: name 'np' is not defined"
     ]
    }
   ],
   "source": [
    "d=np.array([1,2,3])\n",
    "e=np.array([4,5,6])"
   ]
  },
  {
   "cell_type": "code",
   "execution_count": 40,
   "id": "ddac6539",
   "metadata": {},
   "outputs": [
    {
     "data": {
      "text/plain": [
       "array([1, 2, 3, 4, 5, 6])"
      ]
     },
     "execution_count": 40,
     "metadata": {},
     "output_type": "execute_result"
    }
   ],
   "source": [
    "# hastack \n",
    "result=np.hstack((d,e))\n",
    "result"
   ]
  },
  {
   "cell_type": "code",
   "execution_count": 43,
   "id": "bb245f13",
   "metadata": {},
   "outputs": [
    {
     "data": {
      "text/plain": [
       "2"
      ]
     },
     "execution_count": 43,
     "metadata": {},
     "output_type": "execute_result"
    }
   ],
   "source": [
    "#vstack\n",
    "r2=np.vstack((d,e))\n",
    "r2\n",
    "np.ndim(r2)"
   ]
  },
  {
   "cell_type": "markdown",
   "id": "60f45efc",
   "metadata": {},
   "source": [
    "## numpy concatination"
   ]
  },
  {
   "cell_type": "markdown",
   "id": "65168437",
   "metadata": {},
   "source": [
    "We can conacte the tw0 array by row and column using axis\n",
    "\n",
    "we can add onlly same dimensional array"
   ]
  },
  {
   "cell_type": "markdown",
   "id": "b57e51d1",
   "metadata": {},
   "source": [
    "## numpy array slicing \n",
    "\n",
    "arr[row,col]"
   ]
  },
  {
   "cell_type": "code",
   "execution_count": 46,
   "id": "39833e7a",
   "metadata": {},
   "outputs": [
    {
     "data": {
      "text/plain": [
       "array([1, 2, 3, 4, 5, 6, 7])"
      ]
     },
     "execution_count": 46,
     "metadata": {},
     "output_type": "execute_result"
    }
   ],
   "source": [
    "a1=np.array([1,2,3,4,5,6,7])\n",
    "a1"
   ]
  },
  {
   "cell_type": "code",
   "execution_count": 49,
   "id": "8c936606",
   "metadata": {},
   "outputs": [
    {
     "data": {
      "text/plain": [
       "array([1, 2, 3, 4])"
      ]
     },
     "execution_count": 49,
     "metadata": {},
     "output_type": "execute_result"
    }
   ],
   "source": [
    "a1[1:5] #ending wil be excluded\n",
    "a1[4:]  #onwrads the 4th position start to all \n",
    "a1[:4]  #first 4 element"
   ]
  },
  {
   "cell_type": "code",
   "execution_count": 51,
   "id": "e69da48e",
   "metadata": {},
   "outputs": [
    {
     "data": {
      "text/plain": [
       "array([[ 1,  2,  3,  4,  5],\n",
       "       [ 6,  7,  8,  9, 19]])"
      ]
     },
     "execution_count": 51,
     "metadata": {},
     "output_type": "execute_result"
    }
   ],
   "source": [
    "a2=np.array([[1,2,3,4,5],[6,7,8,9,19]])\n",
    "a2"
   ]
  },
  {
   "cell_type": "code",
   "execution_count": 55,
   "id": "15961050",
   "metadata": {},
   "outputs": [
    {
     "data": {
      "text/plain": [
       "array([7, 8, 9])"
      ]
     },
     "execution_count": 55,
     "metadata": {},
     "output_type": "execute_result"
    }
   ],
   "source": [
    "#2d array slicing \n",
    "a2[1,1:4]"
   ]
  },
  {
   "cell_type": "code",
   "execution_count": 58,
   "id": "51a50b12",
   "metadata": {},
   "outputs": [
    {
     "data": {
      "text/plain": [
       "array([[1, 2, 3],\n",
       "       [6, 7, 8]])"
      ]
     },
     "execution_count": 58,
     "metadata": {},
     "output_type": "execute_result"
    }
   ],
   "source": [
    "a2[:,:3]"
   ]
  },
  {
   "cell_type": "code",
   "execution_count": 59,
   "id": "564b11db",
   "metadata": {},
   "outputs": [
    {
     "data": {
      "text/plain": [
       "array([8, 9])"
      ]
     },
     "execution_count": 59,
     "metadata": {},
     "output_type": "execute_result"
    }
   ],
   "source": [
    "a2[1,2:4]"
   ]
  },
  {
   "cell_type": "markdown",
   "id": "ee3fa57d",
   "metadata": {},
   "source": [
    "### 3d array"
   ]
  },
  {
   "cell_type": "code",
   "execution_count": 68,
   "id": "48d0f28d",
   "metadata": {},
   "outputs": [
    {
     "data": {
      "text/plain": [
       "array([[[ 0,  1,  2],\n",
       "        [ 3,  4,  5],\n",
       "        [ 6,  7,  8]],\n",
       "\n",
       "       [[ 9, 10, 11],\n",
       "        [12, 13, 14],\n",
       "        [15, 16, 17]],\n",
       "\n",
       "       [[18, 19, 20],\n",
       "        [21, 22, 23],\n",
       "        [24, 25, 26]]])"
      ]
     },
     "execution_count": 68,
     "metadata": {},
     "output_type": "execute_result"
    }
   ],
   "source": [
    "a3=np.arange(27).reshape(3,3,3)\n",
    "a3"
   ]
  },
  {
   "cell_type": "code",
   "execution_count": 70,
   "id": "29808e25",
   "metadata": {},
   "outputs": [
    {
     "data": {
      "text/plain": [
       "3"
      ]
     },
     "execution_count": 70,
     "metadata": {},
     "output_type": "execute_result"
    }
   ],
   "source": [
    "np.ndim(a3)"
   ]
  },
  {
   "cell_type": "markdown",
   "id": "cc501ab9",
   "metadata": {},
   "source": [
    "#### syntax[matrix,row, colomn]"
   ]
  },
  {
   "cell_type": "code",
   "execution_count": 71,
   "id": "a439b5aa",
   "metadata": {},
   "outputs": [
    {
     "data": {
      "text/plain": [
       "array([[[ 3,  4],\n",
       "        [ 6,  7]],\n",
       "\n",
       "       [[12, 13],\n",
       "        [15, 16]]])"
      ]
     },
     "execution_count": 71,
     "metadata": {},
     "output_type": "execute_result"
    }
   ],
   "source": [
    "a3[:2,1:,:2]"
   ]
  },
  {
   "cell_type": "markdown",
   "id": "a1bba871",
   "metadata": {},
   "source": [
    "### View and copy"
   ]
  },
  {
   "cell_type": "code",
   "execution_count": 74,
   "id": "b49a02b1",
   "metadata": {},
   "outputs": [],
   "source": [
    "# copy method \n",
    "#does not effect in original array\n",
    "c1=np.array([1,2,3,4,5])\n",
    "c1\n",
    "copy=c1.copy()"
   ]
  },
  {
   "cell_type": "code",
   "execution_count": 77,
   "id": "59e19834",
   "metadata": {},
   "outputs": [
    {
     "name": "stdout",
     "output_type": "stream",
     "text": [
      "[1 2 3 4 5]\n",
      "[100   2   3   4   5]\n"
     ]
    }
   ],
   "source": [
    "copy[0]=100\n",
    "print(c1)\n",
    "print(copy)"
   ]
  },
  {
   "cell_type": "code",
   "execution_count": 80,
   "id": "76ab338a",
   "metadata": {},
   "outputs": [],
   "source": [
    "#view\n",
    "v= c1.view()\n",
    "v[0]=178\n",
    "print*"
   ]
  },
  {
   "cell_type": "code",
   "execution_count": null,
   "id": "c6176beb",
   "metadata": {},
   "outputs": [],
   "source": []
  }
 ],
 "metadata": {
  "kernelspec": {
   "display_name": "Python 3 (ipykernel)",
   "language": "python",
   "name": "python3"
  },
  "language_info": {
   "codemirror_mode": {
    "name": "ipython",
    "version": 3
   },
   "file_extension": ".py",
   "mimetype": "text/x-python",
   "name": "python",
   "nbconvert_exporter": "python",
   "pygments_lexer": "ipython3",
   "version": "3.11.1"
  }
 },
 "nbformat": 4,
 "nbformat_minor": 5
}
