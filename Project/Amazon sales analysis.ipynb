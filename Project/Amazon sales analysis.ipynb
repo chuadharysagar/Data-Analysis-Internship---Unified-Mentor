{
 "cells": [
  {
   "cell_type": "code",
   "execution_count": 1,
   "id": "6f1b4a55",
   "metadata": {},
   "outputs": [],
   "source": [
    "import numpy as np \n",
    "import pandas as pd\n",
    "import seaborn as sns\n",
    "# read the csv file \n",
    "df= pd.read_csv(\"Amazon Sales data.csv\",parse_dates=['Order Date'])"
   ]
  },
  {
   "cell_type": "code",
   "execution_count": 2,
   "id": "05b27e1c",
   "metadata": {},
   "outputs": [
    {
     "data": {
      "text/plain": [
       "(100, 14)"
      ]
     },
     "execution_count": 2,
     "metadata": {},
     "output_type": "execute_result"
    }
   ],
   "source": [
    "# how big is the data \n",
    "df.shape"
   ]
  },
  {
   "cell_type": "code",
   "execution_count": 3,
   "id": "d4b6479b",
   "metadata": {},
   "outputs": [
    {
     "data": {
      "text/html": [
       "<div>\n",
       "<style scoped>\n",
       "    .dataframe tbody tr th:only-of-type {\n",
       "        vertical-align: middle;\n",
       "    }\n",
       "\n",
       "    .dataframe tbody tr th {\n",
       "        vertical-align: top;\n",
       "    }\n",
       "\n",
       "    .dataframe thead th {\n",
       "        text-align: right;\n",
       "    }\n",
       "</style>\n",
       "<table border=\"1\" class=\"dataframe\">\n",
       "  <thead>\n",
       "    <tr style=\"text-align: right;\">\n",
       "      <th></th>\n",
       "      <th>Region</th>\n",
       "      <th>Country</th>\n",
       "      <th>Item Type</th>\n",
       "      <th>Sales Channel</th>\n",
       "      <th>Order Priority</th>\n",
       "      <th>Order Date</th>\n",
       "      <th>Order ID</th>\n",
       "      <th>Ship Date</th>\n",
       "      <th>Units Sold</th>\n",
       "      <th>Unit Price</th>\n",
       "      <th>Unit Cost</th>\n",
       "      <th>Total Revenue</th>\n",
       "      <th>Total Cost</th>\n",
       "      <th>Total Profit</th>\n",
       "    </tr>\n",
       "  </thead>\n",
       "  <tbody>\n",
       "    <tr>\n",
       "      <th>0</th>\n",
       "      <td>Australia and Oceania</td>\n",
       "      <td>Tuvalu</td>\n",
       "      <td>Baby Food</td>\n",
       "      <td>Offline</td>\n",
       "      <td>H</td>\n",
       "      <td>2010-05-28</td>\n",
       "      <td>669165933</td>\n",
       "      <td>6/27/2010</td>\n",
       "      <td>9925</td>\n",
       "      <td>255.28</td>\n",
       "      <td>159.42</td>\n",
       "      <td>2533654.00</td>\n",
       "      <td>1582243.50</td>\n",
       "      <td>951410.50</td>\n",
       "    </tr>\n",
       "    <tr>\n",
       "      <th>1</th>\n",
       "      <td>Central America and the Caribbean</td>\n",
       "      <td>Grenada</td>\n",
       "      <td>Cereal</td>\n",
       "      <td>Online</td>\n",
       "      <td>C</td>\n",
       "      <td>2012-08-22</td>\n",
       "      <td>963881480</td>\n",
       "      <td>9/15/2012</td>\n",
       "      <td>2804</td>\n",
       "      <td>205.70</td>\n",
       "      <td>117.11</td>\n",
       "      <td>576782.80</td>\n",
       "      <td>328376.44</td>\n",
       "      <td>248406.36</td>\n",
       "    </tr>\n",
       "    <tr>\n",
       "      <th>2</th>\n",
       "      <td>Europe</td>\n",
       "      <td>Russia</td>\n",
       "      <td>Office Supplies</td>\n",
       "      <td>Offline</td>\n",
       "      <td>L</td>\n",
       "      <td>2014-05-02</td>\n",
       "      <td>341417157</td>\n",
       "      <td>5/8/2014</td>\n",
       "      <td>1779</td>\n",
       "      <td>651.21</td>\n",
       "      <td>524.96</td>\n",
       "      <td>1158502.59</td>\n",
       "      <td>933903.84</td>\n",
       "      <td>224598.75</td>\n",
       "    </tr>\n",
       "    <tr>\n",
       "      <th>3</th>\n",
       "      <td>Sub-Saharan Africa</td>\n",
       "      <td>Sao Tome and Principe</td>\n",
       "      <td>Fruits</td>\n",
       "      <td>Online</td>\n",
       "      <td>C</td>\n",
       "      <td>2014-06-20</td>\n",
       "      <td>514321792</td>\n",
       "      <td>7/5/2014</td>\n",
       "      <td>8102</td>\n",
       "      <td>9.33</td>\n",
       "      <td>6.92</td>\n",
       "      <td>75591.66</td>\n",
       "      <td>56065.84</td>\n",
       "      <td>19525.82</td>\n",
       "    </tr>\n",
       "    <tr>\n",
       "      <th>4</th>\n",
       "      <td>Sub-Saharan Africa</td>\n",
       "      <td>Rwanda</td>\n",
       "      <td>Office Supplies</td>\n",
       "      <td>Offline</td>\n",
       "      <td>L</td>\n",
       "      <td>2013-02-01</td>\n",
       "      <td>115456712</td>\n",
       "      <td>2/6/2013</td>\n",
       "      <td>5062</td>\n",
       "      <td>651.21</td>\n",
       "      <td>524.96</td>\n",
       "      <td>3296425.02</td>\n",
       "      <td>2657347.52</td>\n",
       "      <td>639077.50</td>\n",
       "    </tr>\n",
       "  </tbody>\n",
       "</table>\n",
       "</div>"
      ],
      "text/plain": [
       "                              Region                Country        Item Type  \\\n",
       "0              Australia and Oceania                 Tuvalu        Baby Food   \n",
       "1  Central America and the Caribbean                Grenada           Cereal   \n",
       "2                             Europe                 Russia  Office Supplies   \n",
       "3                 Sub-Saharan Africa  Sao Tome and Principe           Fruits   \n",
       "4                 Sub-Saharan Africa                 Rwanda  Office Supplies   \n",
       "\n",
       "  Sales Channel Order Priority Order Date   Order ID  Ship Date  Units Sold  \\\n",
       "0       Offline              H 2010-05-28  669165933  6/27/2010        9925   \n",
       "1        Online              C 2012-08-22  963881480  9/15/2012        2804   \n",
       "2       Offline              L 2014-05-02  341417157   5/8/2014        1779   \n",
       "3        Online              C 2014-06-20  514321792   7/5/2014        8102   \n",
       "4       Offline              L 2013-02-01  115456712   2/6/2013        5062   \n",
       "\n",
       "   Unit Price  Unit Cost  Total Revenue  Total Cost  Total Profit  \n",
       "0      255.28     159.42     2533654.00  1582243.50     951410.50  \n",
       "1      205.70     117.11      576782.80   328376.44     248406.36  \n",
       "2      651.21     524.96     1158502.59   933903.84     224598.75  \n",
       "3        9.33       6.92       75591.66    56065.84      19525.82  \n",
       "4      651.21     524.96     3296425.02  2657347.52     639077.50  "
      ]
     },
     "execution_count": 3,
     "metadata": {},
     "output_type": "execute_result"
    }
   ],
   "source": [
    "df.head()"
   ]
  },
  {
   "cell_type": "code",
   "execution_count": 4,
   "id": "008c986d",
   "metadata": {},
   "outputs": [
    {
     "data": {
      "text/html": [
       "<div>\n",
       "<style scoped>\n",
       "    .dataframe tbody tr th:only-of-type {\n",
       "        vertical-align: middle;\n",
       "    }\n",
       "\n",
       "    .dataframe tbody tr th {\n",
       "        vertical-align: top;\n",
       "    }\n",
       "\n",
       "    .dataframe thead th {\n",
       "        text-align: right;\n",
       "    }\n",
       "</style>\n",
       "<table border=\"1\" class=\"dataframe\">\n",
       "  <thead>\n",
       "    <tr style=\"text-align: right;\">\n",
       "      <th></th>\n",
       "      <th>Region</th>\n",
       "      <th>Country</th>\n",
       "      <th>Item Type</th>\n",
       "      <th>Sales Channel</th>\n",
       "      <th>Order Priority</th>\n",
       "      <th>Order Date</th>\n",
       "      <th>Order ID</th>\n",
       "      <th>Ship Date</th>\n",
       "      <th>Units Sold</th>\n",
       "      <th>Unit Price</th>\n",
       "      <th>Unit Cost</th>\n",
       "      <th>Total Revenue</th>\n",
       "      <th>Total Cost</th>\n",
       "      <th>Total Profit</th>\n",
       "    </tr>\n",
       "  </thead>\n",
       "  <tbody>\n",
       "    <tr>\n",
       "      <th>44</th>\n",
       "      <td>Asia</td>\n",
       "      <td>Myanmar</td>\n",
       "      <td>Clothes</td>\n",
       "      <td>Online</td>\n",
       "      <td>H</td>\n",
       "      <td>2015-11-14</td>\n",
       "      <td>223359620</td>\n",
       "      <td>11/18/2015</td>\n",
       "      <td>5930</td>\n",
       "      <td>109.28</td>\n",
       "      <td>35.84</td>\n",
       "      <td>648030.40</td>\n",
       "      <td>212531.20</td>\n",
       "      <td>435499.20</td>\n",
       "    </tr>\n",
       "    <tr>\n",
       "      <th>6</th>\n",
       "      <td>Sub-Saharan Africa</td>\n",
       "      <td>Angola</td>\n",
       "      <td>Household</td>\n",
       "      <td>Offline</td>\n",
       "      <td>M</td>\n",
       "      <td>2011-04-23</td>\n",
       "      <td>135425221</td>\n",
       "      <td>4/27/2011</td>\n",
       "      <td>4187</td>\n",
       "      <td>668.27</td>\n",
       "      <td>502.54</td>\n",
       "      <td>2798046.49</td>\n",
       "      <td>2104134.98</td>\n",
       "      <td>693911.51</td>\n",
       "    </tr>\n",
       "    <tr>\n",
       "      <th>62</th>\n",
       "      <td>Sub-Saharan Africa</td>\n",
       "      <td>Cameroon</td>\n",
       "      <td>Office Supplies</td>\n",
       "      <td>Online</td>\n",
       "      <td>M</td>\n",
       "      <td>2011-11-07</td>\n",
       "      <td>177636754</td>\n",
       "      <td>11/15/2011</td>\n",
       "      <td>5518</td>\n",
       "      <td>651.21</td>\n",
       "      <td>524.96</td>\n",
       "      <td>3593376.78</td>\n",
       "      <td>2896729.28</td>\n",
       "      <td>696647.50</td>\n",
       "    </tr>\n",
       "    <tr>\n",
       "      <th>12</th>\n",
       "      <td>Asia</td>\n",
       "      <td>Bangladesh</td>\n",
       "      <td>Clothes</td>\n",
       "      <td>Online</td>\n",
       "      <td>L</td>\n",
       "      <td>2017-01-13</td>\n",
       "      <td>187310731</td>\n",
       "      <td>3/1/2017</td>\n",
       "      <td>8263</td>\n",
       "      <td>109.28</td>\n",
       "      <td>35.84</td>\n",
       "      <td>902980.64</td>\n",
       "      <td>296145.92</td>\n",
       "      <td>606834.72</td>\n",
       "    </tr>\n",
       "    <tr>\n",
       "      <th>8</th>\n",
       "      <td>Sub-Saharan Africa</td>\n",
       "      <td>Republic of the Congo</td>\n",
       "      <td>Personal Care</td>\n",
       "      <td>Offline</td>\n",
       "      <td>M</td>\n",
       "      <td>2015-07-14</td>\n",
       "      <td>770463311</td>\n",
       "      <td>8/25/2015</td>\n",
       "      <td>6070</td>\n",
       "      <td>81.73</td>\n",
       "      <td>56.67</td>\n",
       "      <td>496101.10</td>\n",
       "      <td>343986.90</td>\n",
       "      <td>152114.20</td>\n",
       "    </tr>\n",
       "  </tbody>\n",
       "</table>\n",
       "</div>"
      ],
      "text/plain": [
       "                Region                Country        Item Type Sales Channel  \\\n",
       "44                Asia                Myanmar          Clothes        Online   \n",
       "6   Sub-Saharan Africa                 Angola        Household       Offline   \n",
       "62  Sub-Saharan Africa               Cameroon  Office Supplies        Online   \n",
       "12                Asia             Bangladesh          Clothes        Online   \n",
       "8   Sub-Saharan Africa  Republic of the Congo    Personal Care       Offline   \n",
       "\n",
       "   Order Priority Order Date   Order ID   Ship Date  Units Sold  Unit Price  \\\n",
       "44              H 2015-11-14  223359620  11/18/2015        5930      109.28   \n",
       "6               M 2011-04-23  135425221   4/27/2011        4187      668.27   \n",
       "62              M 2011-11-07  177636754  11/15/2011        5518      651.21   \n",
       "12              L 2017-01-13  187310731    3/1/2017        8263      109.28   \n",
       "8               M 2015-07-14  770463311   8/25/2015        6070       81.73   \n",
       "\n",
       "    Unit Cost  Total Revenue  Total Cost  Total Profit  \n",
       "44      35.84      648030.40   212531.20     435499.20  \n",
       "6      502.54     2798046.49  2104134.98     693911.51  \n",
       "62     524.96     3593376.78  2896729.28     696647.50  \n",
       "12      35.84      902980.64   296145.92     606834.72  \n",
       "8       56.67      496101.10   343986.90     152114.20  "
      ]
     },
     "execution_count": 4,
     "metadata": {},
     "output_type": "execute_result"
    }
   ],
   "source": [
    "df.sample(5)"
   ]
  },
  {
   "cell_type": "code",
   "execution_count": 5,
   "id": "bc0b49b7",
   "metadata": {},
   "outputs": [
    {
     "name": "stdout",
     "output_type": "stream",
     "text": [
      "<class 'pandas.core.frame.DataFrame'>\n",
      "RangeIndex: 100 entries, 0 to 99\n",
      "Data columns (total 14 columns):\n",
      " #   Column          Non-Null Count  Dtype         \n",
      "---  ------          --------------  -----         \n",
      " 0   Region          100 non-null    object        \n",
      " 1   Country         100 non-null    object        \n",
      " 2   Item Type       100 non-null    object        \n",
      " 3   Sales Channel   100 non-null    object        \n",
      " 4   Order Priority  100 non-null    object        \n",
      " 5   Order Date      100 non-null    datetime64[ns]\n",
      " 6   Order ID        100 non-null    int64         \n",
      " 7   Ship Date       100 non-null    object        \n",
      " 8   Units Sold      100 non-null    int64         \n",
      " 9   Unit Price      100 non-null    float64       \n",
      " 10  Unit Cost       100 non-null    float64       \n",
      " 11  Total Revenue   100 non-null    float64       \n",
      " 12  Total Cost      100 non-null    float64       \n",
      " 13  Total Profit    100 non-null    float64       \n",
      "dtypes: datetime64[ns](1), float64(5), int64(2), object(6)\n",
      "memory usage: 11.1+ KB\n"
     ]
    }
   ],
   "source": [
    "#hoe deos the data type of the col lookm like\n",
    "df.info()"
   ]
  },
  {
   "cell_type": "code",
   "execution_count": 6,
   "id": "a762c21d",
   "metadata": {},
   "outputs": [
    {
     "data": {
      "text/plain": [
       "Region            0\n",
       "Country           0\n",
       "Item Type         0\n",
       "Sales Channel     0\n",
       "Order Priority    0\n",
       "Order Date        0\n",
       "Order ID          0\n",
       "Ship Date         0\n",
       "Units Sold        0\n",
       "Unit Price        0\n",
       "Unit Cost         0\n",
       "Total Revenue     0\n",
       "Total Cost        0\n",
       "Total Profit      0\n",
       "dtype: int64"
      ]
     },
     "execution_count": 6,
     "metadata": {},
     "output_type": "execute_result"
    }
   ],
   "source": [
    "#is there any null values\n",
    "df.isnull().sum()"
   ]
  },
  {
   "cell_type": "code",
   "execution_count": 7,
   "id": "e5f8cdbb",
   "metadata": {},
   "outputs": [
    {
     "data": {
      "text/html": [
       "<div>\n",
       "<style scoped>\n",
       "    .dataframe tbody tr th:only-of-type {\n",
       "        vertical-align: middle;\n",
       "    }\n",
       "\n",
       "    .dataframe tbody tr th {\n",
       "        vertical-align: top;\n",
       "    }\n",
       "\n",
       "    .dataframe thead th {\n",
       "        text-align: right;\n",
       "    }\n",
       "</style>\n",
       "<table border=\"1\" class=\"dataframe\">\n",
       "  <thead>\n",
       "    <tr style=\"text-align: right;\">\n",
       "      <th></th>\n",
       "      <th>Order ID</th>\n",
       "      <th>Units Sold</th>\n",
       "      <th>Unit Price</th>\n",
       "      <th>Unit Cost</th>\n",
       "      <th>Total Revenue</th>\n",
       "      <th>Total Cost</th>\n",
       "      <th>Total Profit</th>\n",
       "    </tr>\n",
       "  </thead>\n",
       "  <tbody>\n",
       "    <tr>\n",
       "      <th>count</th>\n",
       "      <td>1.000000e+02</td>\n",
       "      <td>100.000000</td>\n",
       "      <td>100.000000</td>\n",
       "      <td>100.000000</td>\n",
       "      <td>1.000000e+02</td>\n",
       "      <td>1.000000e+02</td>\n",
       "      <td>1.000000e+02</td>\n",
       "    </tr>\n",
       "    <tr>\n",
       "      <th>mean</th>\n",
       "      <td>5.550204e+08</td>\n",
       "      <td>5128.710000</td>\n",
       "      <td>276.761300</td>\n",
       "      <td>191.048000</td>\n",
       "      <td>1.373488e+06</td>\n",
       "      <td>9.318057e+05</td>\n",
       "      <td>4.416820e+05</td>\n",
       "    </tr>\n",
       "    <tr>\n",
       "      <th>std</th>\n",
       "      <td>2.606153e+08</td>\n",
       "      <td>2794.484562</td>\n",
       "      <td>235.592241</td>\n",
       "      <td>188.208181</td>\n",
       "      <td>1.460029e+06</td>\n",
       "      <td>1.083938e+06</td>\n",
       "      <td>4.385379e+05</td>\n",
       "    </tr>\n",
       "    <tr>\n",
       "      <th>min</th>\n",
       "      <td>1.146066e+08</td>\n",
       "      <td>124.000000</td>\n",
       "      <td>9.330000</td>\n",
       "      <td>6.920000</td>\n",
       "      <td>4.870260e+03</td>\n",
       "      <td>3.612240e+03</td>\n",
       "      <td>1.258020e+03</td>\n",
       "    </tr>\n",
       "    <tr>\n",
       "      <th>25%</th>\n",
       "      <td>3.389225e+08</td>\n",
       "      <td>2836.250000</td>\n",
       "      <td>81.730000</td>\n",
       "      <td>35.840000</td>\n",
       "      <td>2.687212e+05</td>\n",
       "      <td>1.688680e+05</td>\n",
       "      <td>1.214436e+05</td>\n",
       "    </tr>\n",
       "    <tr>\n",
       "      <th>50%</th>\n",
       "      <td>5.577086e+08</td>\n",
       "      <td>5382.500000</td>\n",
       "      <td>179.880000</td>\n",
       "      <td>107.275000</td>\n",
       "      <td>7.523144e+05</td>\n",
       "      <td>3.635664e+05</td>\n",
       "      <td>2.907680e+05</td>\n",
       "    </tr>\n",
       "    <tr>\n",
       "      <th>75%</th>\n",
       "      <td>7.907551e+08</td>\n",
       "      <td>7369.000000</td>\n",
       "      <td>437.200000</td>\n",
       "      <td>263.330000</td>\n",
       "      <td>2.212045e+06</td>\n",
       "      <td>1.613870e+06</td>\n",
       "      <td>6.358288e+05</td>\n",
       "    </tr>\n",
       "    <tr>\n",
       "      <th>max</th>\n",
       "      <td>9.940222e+08</td>\n",
       "      <td>9925.000000</td>\n",
       "      <td>668.270000</td>\n",
       "      <td>524.960000</td>\n",
       "      <td>5.997055e+06</td>\n",
       "      <td>4.509794e+06</td>\n",
       "      <td>1.719922e+06</td>\n",
       "    </tr>\n",
       "  </tbody>\n",
       "</table>\n",
       "</div>"
      ],
      "text/plain": [
       "           Order ID   Units Sold  Unit Price   Unit Cost  Total Revenue  \\\n",
       "count  1.000000e+02   100.000000  100.000000  100.000000   1.000000e+02   \n",
       "mean   5.550204e+08  5128.710000  276.761300  191.048000   1.373488e+06   \n",
       "std    2.606153e+08  2794.484562  235.592241  188.208181   1.460029e+06   \n",
       "min    1.146066e+08   124.000000    9.330000    6.920000   4.870260e+03   \n",
       "25%    3.389225e+08  2836.250000   81.730000   35.840000   2.687212e+05   \n",
       "50%    5.577086e+08  5382.500000  179.880000  107.275000   7.523144e+05   \n",
       "75%    7.907551e+08  7369.000000  437.200000  263.330000   2.212045e+06   \n",
       "max    9.940222e+08  9925.000000  668.270000  524.960000   5.997055e+06   \n",
       "\n",
       "         Total Cost  Total Profit  \n",
       "count  1.000000e+02  1.000000e+02  \n",
       "mean   9.318057e+05  4.416820e+05  \n",
       "std    1.083938e+06  4.385379e+05  \n",
       "min    3.612240e+03  1.258020e+03  \n",
       "25%    1.688680e+05  1.214436e+05  \n",
       "50%    3.635664e+05  2.907680e+05  \n",
       "75%    1.613870e+06  6.358288e+05  \n",
       "max    4.509794e+06  1.719922e+06  "
      ]
     },
     "execution_count": 7,
     "metadata": {},
     "output_type": "execute_result"
    }
   ],
   "source": [
    "#math mathical summersy of the data\n",
    "df.describe()"
   ]
  },
  {
   "cell_type": "markdown",
   "id": "f4797b7b",
   "metadata": {},
   "source": [
    "# DATA Analysis Steps"
   ]
  },
  {
   "cell_type": "markdown",
   "id": "97aff626",
   "metadata": {},
   "source": [
    "1.Missing values\n",
    "\n",
    "2.Explore about the numerical variable\n",
    "\n",
    "3.explore about the categorical variables\n",
    "\n",
    "4.finding relationship between features"
   ]
  },
  {
   "cell_type": "code",
   "execution_count": 8,
   "id": "387b3f8f",
   "metadata": {},
   "outputs": [
    {
     "data": {
      "text/plain": [
       "0"
      ]
     },
     "execution_count": 8,
     "metadata": {},
     "output_type": "execute_result"
    }
   ],
   "source": [
    "df.duplicated().sum()"
   ]
  },
  {
   "cell_type": "markdown",
   "id": "458d6a0f",
   "metadata": {},
   "source": [
    "# Univariate analysis"
   ]
  },
  {
   "cell_type": "code",
   "execution_count": 9,
   "id": "01d19ff3",
   "metadata": {},
   "outputs": [
    {
     "data": {
      "text/plain": [
       "The Gambia               4\n",
       "Sierra Leone             3\n",
       "Sao Tome and Principe    3\n",
       "Mexico                   3\n",
       "Australia                3\n",
       "                        ..\n",
       "Comoros                  1\n",
       "Iceland                  1\n",
       "Macedonia                1\n",
       "Mauritania               1\n",
       "Mozambique               1\n",
       "Name: Country, Length: 76, dtype: int64"
      ]
     },
     "execution_count": 9,
     "metadata": {},
     "output_type": "execute_result"
    }
   ],
   "source": [
    "df['Country'].value_counts() # so the maximum order are form the the Gambia country in above dataset"
   ]
  },
  {
   "cell_type": "code",
   "execution_count": 10,
   "id": "2a5f8647",
   "metadata": {},
   "outputs": [
    {
     "data": {
      "text/plain": [
       "Clothes            13\n",
       "Cosmetics          13\n",
       "Office Supplies    12\n",
       "Fruits             10\n",
       "Personal Care      10\n",
       "Household           9\n",
       "Beverages           8\n",
       "Baby Food           7\n",
       "Cereal              7\n",
       "Vegetables          6\n",
       "Snacks              3\n",
       "Meat                2\n",
       "Name: Item Type, dtype: int64"
      ]
     },
     "execution_count": 10,
     "metadata": {},
     "output_type": "execute_result"
    }
   ],
   "source": [
    "df['Item Type'].value_counts()"
   ]
  },
  {
   "cell_type": "code",
   "execution_count": 11,
   "id": "a27cfde3",
   "metadata": {},
   "outputs": [
    {
     "data": {
      "text/plain": [
       "array(['Baby Food', 'Cereal', 'Office Supplies', 'Fruits',\n",
       "       'Office Supplies', 'Baby Food', 'Household', 'Vegetables',\n",
       "       'Personal Care', 'Cereal', 'Vegetables', 'Clothes', 'Clothes',\n",
       "       'Household', 'Personal Care', 'Clothes', 'Cosmetics', 'Beverages',\n",
       "       'Household', 'Meat', 'Baby Food', 'Baby Food', 'Snacks', 'Fruits',\n",
       "       'Personal Care', 'Cosmetics', 'Fruits', 'Fruits', 'Beverages',\n",
       "       'Household', 'Cosmetics', 'Personal Care', 'Office Supplies',\n",
       "       'Household', 'Snacks', 'Personal Care', 'Fruits', 'Meat',\n",
       "       'Office Supplies', 'Office Supplies', 'Personal Care', 'Cosmetics',\n",
       "       'Cereal', 'Vegetables', 'Clothes', 'Cereal', 'Cosmetics',\n",
       "       'Personal Care', 'Clothes', 'Office Supplies', 'Clothes', 'Fruits',\n",
       "       'Cereal', 'Office Supplies', 'Fruits', 'Clothes', 'Clothes',\n",
       "       'Cosmetics', 'Household', 'Cosmetics', 'Cereal', 'Baby Food',\n",
       "       'Office Supplies', 'Clothes', 'Cosmetics', 'Cosmetics',\n",
       "       'Personal Care', 'Clothes', 'Office Supplies', 'Clothes',\n",
       "       'Office Supplies', 'Fruits', 'Beverages', 'Cereal', 'Cosmetics',\n",
       "       'Household', 'Beverages', 'Vegetables', 'Baby Food', 'Cosmetics',\n",
       "       'Household', 'Clothes', 'Cosmetics', 'Snacks', 'Vegetables',\n",
       "       'Personal Care', 'Beverages', 'Baby Food', 'Fruits', 'Beverages',\n",
       "       'Office Supplies', 'Beverages', 'Office Supplies', 'Cosmetics',\n",
       "       'Beverages', 'Clothes', 'Fruits', 'Vegetables', 'Personal Care',\n",
       "       'Household'], dtype=object)"
      ]
     },
     "execution_count": 11,
     "metadata": {},
     "output_type": "execute_result"
    }
   ],
   "source": [
    "item_odered=df['Item Type'].values\n",
    "item_odered   # so below is the list of the item oderd by custmer"
   ]
  },
  {
   "cell_type": "code",
   "execution_count": 12,
   "id": "e131d8e9",
   "metadata": {},
   "outputs": [
    {
     "data": {
      "text/plain": [
       "Clothes            13\n",
       "Cosmetics          13\n",
       "Office Supplies    12\n",
       "Fruits             10\n",
       "Personal Care      10\n",
       "Household           9\n",
       "Beverages           8\n",
       "Baby Food           7\n",
       "Cereal              7\n",
       "Vegetables          6\n",
       "Snacks              3\n",
       "Meat                2\n",
       "Name: Item Type, dtype: int64"
      ]
     },
     "execution_count": 12,
     "metadata": {},
     "output_type": "execute_result"
    }
   ],
   "source": [
    "df['Item Type'].value_counts()"
   ]
  },
  {
   "cell_type": "code",
   "execution_count": 13,
   "id": "e20193e5",
   "metadata": {},
   "outputs": [
    {
     "data": {
      "text/plain": [
       "<Axes: >"
      ]
     },
     "execution_count": 13,
     "metadata": {},
     "output_type": "execute_result"
    },
    {
     "data": {
      "image/png": "[encoded data removed]",
      "text/plain": [
       "<Figure size 640x480 with 1 Axes>"
      ]
     },
     "metadata": {},
     "output_type": "display_data"
    }
   ],
   "source": [
    "df['Item Type'].value_counts().plot(kind='bar') #the most number of the item oderd from the amazon is cloths"
   ]
  },
  {
   "cell_type": "code",
   "execution_count": 14,
   "id": "b4d69cc2",
   "metadata": {},
   "outputs": [
    {
     "data": {
      "text/plain": [
       "<Axes: >"
      ]
     },
     "execution_count": 14,
     "metadata": {},
     "output_type": "execute_result"
    },
    {
     "data": {
      "image/png": "[encoded data removed]",
      "text/plain": [
       "<Figure size 640x480 with 1 Axes>"
      ]
     },
     "metadata": {},
     "output_type": "display_data"
    }
   ],
   "source": [
    "df['Sales Channel'].value_counts().plot(kind='bar')\n",
    "# so from, this obser vatiob we can say that 50% percent of mode is online and 50% of the mode is offline"
   ]
  },
  {
   "cell_type": "code",
   "execution_count": 15,
   "id": "16b42723",
   "metadata": {},
   "outputs": [
    {
     "data": {
      "text/plain": [
       "2010-05-28    1\n",
       "2010-10-30    1\n",
       "2017-05-20    1\n",
       "2011-05-26    1\n",
       "2015-08-14    1\n",
       "             ..\n",
       "2012-09-17    1\n",
       "2012-05-26    1\n",
       "2014-07-18    1\n",
       "2010-05-07    1\n",
       "2012-02-10    1\n",
       "Name: Order Date, Length: 100, dtype: int64"
      ]
     },
     "execution_count": 15,
     "metadata": {},
     "output_type": "execute_result"
    }
   ],
   "source": [
    "df['Order Date'].value_counts() #data from 2010 to 2012 total 2 years of data"
   ]
  },
  {
   "cell_type": "code",
   "execution_count": 16,
   "id": "1663b718",
   "metadata": {},
   "outputs": [
    {
     "data": {
      "text/plain": [
       "Item Type     Vegetables\n",
       "Units Sold          9925\n",
       "dtype: object"
      ]
     },
     "execution_count": 16,
     "metadata": {},
     "output_type": "execute_result"
    }
   ],
   "source": [
    "df[['Item Type','Units Sold']].max()   # the max item sold is the vegetable total 9925 item had been sold "
   ]
  },
  {
   "cell_type": "code",
   "execution_count": 17,
   "id": "8ebf9a29",
   "metadata": {},
   "outputs": [],
   "source": [
    "import matplotlib.pyplot as plt"
   ]
  },
  {
   "cell_type": "code",
   "execution_count": 18,
   "id": "726bd13f",
   "metadata": {},
   "outputs": [
    {
     "data": {
      "image/png": "[encoded data removed]",
      "text/plain": [
       "<Figure size 640x480 with 1 Axes>"
      ]
     },
     "metadata": {},
     "output_type": "display_data"
    }
   ],
   "source": [
    "plt.title(\"The Realtion between the Unit sold and the Total profit\",fontsize=10)\n",
    "sns.scatterplot(x=df['Units Sold'],y=df['Total Profit'])\n",
    "plt.show()"
   ]
  },
  {
   "cell_type": "markdown",
   "id": "c0235870",
   "metadata": {},
   "source": [
    "### So there is the linear realtion betwen unit sold and the Total profit"
   ]
  },
  {
   "cell_type": "code",
   "execution_count": 19,
   "id": "aca54266",
   "metadata": {},
   "outputs": [],
   "source": [
    "profit_loss= [df['Total Profit']<0]  #also there is no loss "
   ]
  },
  {
   "cell_type": "code",
   "execution_count": 25,
   "id": "b2f5ecc8",
   "metadata": {},
   "outputs": [
    {
     "data": {
      "text/plain": [
       "44168198.400000006"
      ]
     },
     "execution_count": 25,
     "metadata": {},
     "output_type": "execute_result"
    }
   ],
   "source": [
    "round(sum(df['Total Revenue']),2)-round(sum(df['Total Cost']),2)"
   ]
  },
  {
   "cell_type": "code",
   "execution_count": 24,
   "id": "73119422",
   "metadata": {},
   "outputs": [
    {
     "data": {
      "text/plain": [
       "93180569.91"
      ]
     },
     "execution_count": 24,
     "metadata": {},
     "output_type": "execute_result"
    }
   ],
   "source": [
    "round(sum(df['Total Cost']),2)"
   ]
  },
  {
   "cell_type": "code",
   "execution_count": 27,
   "id": "6b366ea6",
   "metadata": {},
   "outputs": [
    {
     "data": {
      "text/plain": [
       "Sub-Saharan Africa                   36\n",
       "Europe                               22\n",
       "Australia and Oceania                11\n",
       "Asia                                 11\n",
       "Middle East and North Africa         10\n",
       "Central America and the Caribbean     7\n",
       "North America                         3\n",
       "Name: Region, dtype: int64"
      ]
     },
     "execution_count": 27,
     "metadata": {},
     "output_type": "execute_result"
    }
   ],
   "source": [
    "df['Region'].value_counts()"
   ]
  },
  {
   "cell_type": "code",
   "execution_count": null,
   "id": "46b2efdf",
   "metadata": {},
   "outputs": [],
   "source": []
  }
 ],
 "metadata": {
  "kernelspec": {
   "display_name": "Python 3 (ipykernel)",
   "language": "python",
   "name": "python3"
  },
  "language_info": {
   "codemirror_mode": {
    "name": "ipython",
    "version": 3
   },
   "file_extension": ".py",
   "mimetype": "text/x-python",
   "name": "python",
   "nbconvert_exporter": "python",
   "pygments_lexer": "ipython3",
   "version": "3.11.1"
  }
 },
 "nbformat": 4,
 "nbformat_minor": 5
}
